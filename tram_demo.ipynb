{
  "nbformat": 4,
  "nbformat_minor": 0,
  "metadata": {
    "colab": {
      "provenance": [],
      "gpuType": "T4",
      "mount_file_id": "1ydGPWMmYEQIWy6RPBe1imRdEyrbOepZp",
      "authorship_tag": "ABX9TyMQ0wX+GM2C7wnmHOlFBxul",
      "include_colab_link": true
    },
    "kernelspec": {
      "name": "python3",
      "display_name": "Python 3"
    },
    "language_info": {
      "name": "python"
    },
    "accelerator": "GPU"
  },
  "cells": [
    {
      "cell_type": "markdown",
      "metadata": {
        "id": "view-in-github",
        "colab_type": "text"
      },
      "source": [
        "<a href=\"https://colab.research.google.com/github/aristosp/aristosp/blob/main/tram_demo.ipynb\" target=\"_parent\"><img src=\"https://colab.research.google.com/assets/colab-badge.svg\" alt=\"Open In Colab\"/></a>"
      ]
    },
    {
      "cell_type": "code",
      "execution_count": 1,
      "metadata": {
        "id": "0O9R5HgCg4Wu"
      },
      "outputs": [],
      "source": [
        "# Import Dependencies\n",
        "import os\n",
        "import zipfile\n",
        "import tensorflow as tf\n",
        "from keras.models import Sequential\n",
        "import pandas as pd\n",
        "import numpy as np\n",
        "from matplotlib import pyplot as plt\n",
        "from keras.layers import Dense, MaxPooling2D, BatchNormalization, Dropout, Conv2D, Input, Rescaling, GlobalMaxPool2D, Flatten\n",
        "import csv\n",
        "import re\n",
        "import skimage.io\n",
        "import librosa\n",
        "import soundfile\n",
        "from pathlib import Path"
      ]
    },
    {
      "cell_type": "code",
      "source": [
        "local_zip = '/content/drive/MyDrive/Tram Demo.zip'\n",
        "zip_ref = zipfile.ZipFile(local_zip, 'r')\n",
        "zip_ref.extractall('/content')\n",
        "zip_ref.close()"
      ],
      "metadata": {
        "id": "gvvqT1xO5Jbl"
      },
      "execution_count": 2,
      "outputs": []
    },
    {
      "cell_type": "code",
      "source": [
        "# Create csv file of image directory and corresponding label\n",
        "def sorted_natural(data):\n",
        "    \"\"\"\n",
        "    This function sorts its input naturally instead of alphabetically\n",
        "    :param data: Input to be sorted\n",
        "    :return: it's input, sorted naturally\n",
        "    \"\"\"\n",
        "    convert = lambda text: int(text) if text.isdigit() else text.lower()\n",
        "    alphanum_key = lambda key: [convert(c) for c in re.split('([0-9]+)', key)]\n",
        "    return sorted(data, key=alphanum_key)\n",
        "\n",
        "\n",
        "def csv_creator(filename, fields, rows):\n",
        "    \"\"\"\n",
        "    This function creates a csv file, filling it with the contents of fields and rows\n",
        "    :param filename: Path and name to save the created file\n",
        "    :param fields: Data to fill the fields of the csv file\n",
        "    :param rows: Data to fill the rows of the csv file\n",
        "    :return: Null\n",
        "    \"\"\"\n",
        "    with open(filename, 'w', newline='') as csvfile:\n",
        "        # creating a csv writer object\n",
        "        csvwriter = csv.writer(csvfile)\n",
        "        # writing the fields\n",
        "        csvwriter.writerow(fields)\n",
        "        # writing the data rows\n",
        "        csvwriter.writerows(rows)\n",
        "\n",
        "\n",
        "def scale_minmax(X, min=0.0, max=1.0):\n",
        "    X_std = (X - X.min()) / (X.max() - X.min())\n",
        "    X_scaled = X_std * (max - min) + min\n",
        "    return X_scaled\n",
        "\n",
        "def spectrogram_image(y, sr, out, hop_length, n_mels):\n",
        "    # use log-melspectrogram\n",
        "    mels = librosa.feature.melspectrogram(y=y, sr=sr, n_mels=n_mels,\n",
        "                                            n_fft=hop_length*2, hop_length=hop_length)\n",
        "    mels = np.log(mels + 1e-9) # add small number to avoid log(0)\n",
        "\n",
        "    # min-max scale to fit inside 8-bit range\n",
        "    img = scale_minmax(mels, 0, 255).astype(np.uint8)\n",
        "    img = np.flip(img, axis=0) # put low frequencies at the bottom in image\n",
        "    img = 255-img # invert. make black==more energy\n",
        "\n",
        "    # save as PNG\n",
        "    skimage.io.imsave(out, img)"
      ],
      "metadata": {
        "id": "uRQE4EPV5tPV"
      },
      "execution_count": 3,
      "outputs": []
    },
    {
      "cell_type": "code",
      "source": [
        "def audio_split(file, filename, savelocation, sr, segment_len):\n",
        "    # split audio sample when the sample is larger than 3 seconds\n",
        "    y, _ = librosa.load(file, sr=sr)\n",
        "    duration_in_sec =int(librosa.get_duration(y=y))\n",
        "    segment_duration = int(segment_len * len(y) / duration_in_sec)\n",
        "    for sec in range(0, duration_in_sec, segment_len):\n",
        "        final_loc = savelocation + '/' + str(sec) + '_' + filename\n",
        "        if sec == 0:\n",
        "            t1 = sec * segment_duration\n",
        "            t2 = t1 + segment_duration\n",
        "            split_audio = y[t1:t2]\n",
        "            soundfile.write(final_loc,split_audio, samplerate=sr)\n",
        "        else:\n",
        "            t1 = previous_t2\n",
        "            t2 = t1 + segment_duration\n",
        "            split_audio = y[t1:t2]\n",
        "            soundfile.write(final_loc, split_audio, samplerate=sr)\n",
        "        previous_t2 = t2"
      ],
      "metadata": {
        "id": "W0cENp973Oj9"
      },
      "execution_count": 4,
      "outputs": []
    },
    {
      "cell_type": "code",
      "source": [
        "path = Path('/content/Tram Demo')\n",
        "train_path = '/content/Tram Demo/dataset/'"
      ],
      "metadata": {
        "id": "V7lP6UAt5ulV"
      },
      "execution_count": 5,
      "outputs": []
    },
    {
      "cell_type": "code",
      "source": [
        "# Sort with natural order the labels\n",
        "labels = sorted_natural(os.listdir(train_path))"
      ],
      "metadata": {
        "id": "B3MrnQhHoLOJ"
      },
      "execution_count": 6,
      "outputs": []
    },
    {
      "cell_type": "code",
      "source": [
        "# Create new directories to save spectrogram images\n",
        "folder = '/content/Tram Demo/test_files/'\n",
        "for og_name in os.listdir(folder):\n",
        "    os.makedirs(os.path.join('TramDemo_spec_test/testfiles/', og_name))\n",
        "for og_name in os.listdir('/content/TramDemo_spec_test/testfiles'):\n",
        "    os.makedirs(os.path.join('/content/TramDemo_spec_test/specfiles/', og_name))\n",
        "for subfolder_name in labels:\n",
        "    os.makedirs(os.path.join('TramDemo_spec', subfolder_name))"
      ],
      "metadata": {
        "id": "havIq54i8pid"
      },
      "execution_count": 7,
      "outputs": []
    },
    {
      "cell_type": "code",
      "source": [
        "# Split test files into 3 second samples\n",
        "for filename in os.listdir(folder):\n",
        "    saveloc = '/content/TramDemo_spec_test/testfiles/' + filename\n",
        "    filepath = folder + '/' + filename\n",
        "    audio_split(filepath, filename, saveloc, 22050, 3)"
      ],
      "metadata": {
        "id": "m8F6iLAi3P0S"
      },
      "execution_count": 8,
      "outputs": []
    },
    {
      "cell_type": "code",
      "source": [
        "# settings for the spectrograms\n",
        "hop_length = 500 # number of samples per time-step in spectrogram\n",
        "n_mels = 128 # number of bins in spectrogram. Height of image\n",
        "time_steps = 384 # number of time-steps. Width of image\n",
        "newfolder = '/content/TramDemo_spec_test/testfiles/'\n",
        "for og_file in os.listdir(newfolder):\n",
        "  for filename in os.listdir(newfolder + og_file):\n",
        "    # Load waveform\n",
        "    y, sr = librosa.load(newfolder + og_file + '/'+ filename, sr=22050)\n",
        "    # Write to path\n",
        "    savepath = '../content/TramDemo_spec_test/specfiles/' + og_file +'/' + filename + '.png'\n",
        "    spectrogram_image(y, sr=sr, out=savepath, hop_length=hop_length, n_mels=n_mels)"
      ],
      "metadata": {
        "id": "3H2wd1W7-b6q"
      },
      "execution_count": 9,
      "outputs": []
    },
    {
      "cell_type": "code",
      "source": [
        "# Create appropriate list to fill training csv file\n",
        "sample_paths = []\n",
        "for j in range(len(labels)):\n",
        "  for i in os.listdir(train_path + labels[j]):\n",
        "    sample_paths.append(labels[j] + '/' + i)\n",
        "data_paths = []\n",
        "for i in sample_paths:\n",
        "  data_paths.append(train_path + i)"
      ],
      "metadata": {
        "id": "5rMqNZol7Diw"
      },
      "execution_count": 10,
      "outputs": []
    },
    {
      "cell_type": "code",
      "source": [
        "train_rows = []\n",
        "filepaths = []\n",
        "for i in range(len(data_paths)):\n",
        "    for j in labels:\n",
        "      if j in data_paths[i]:\n",
        "        train_rows.append([data_paths[i] , j])"
      ],
      "metadata": {
        "id": "7OqYtzPR_BhU"
      },
      "execution_count": 11,
      "outputs": []
    },
    {
      "cell_type": "code",
      "source": [
        "# Save csv file\n",
        "csv_creator('train.csv', ['Filepath', 'label'], train_rows)\n",
        "# Read csv file\n",
        "train_df = pd.read_csv('train.csv')\n",
        "train_df.head()"
      ],
      "metadata": {
        "id": "50tJ8gWKD6N5",
        "colab": {
          "base_uri": "https://localhost:8080/",
          "height": 206
        },
        "outputId": "69737901-fec0-4883-fae5-b820d9fe9276"
      },
      "execution_count": 12,
      "outputs": [
        {
          "output_type": "execute_result",
          "data": {
            "text/plain": [
              "                                            Filepath               label\n",
              "0  /content/Tram Demo/dataset/accelerating_1_New/...  accelerating_1_New\n",
              "1  /content/Tram Demo/dataset/accelerating_1_New/...  accelerating_1_New\n",
              "2  /content/Tram Demo/dataset/accelerating_1_New/...  accelerating_1_New\n",
              "3  /content/Tram Demo/dataset/accelerating_1_New/...  accelerating_1_New\n",
              "4  /content/Tram Demo/dataset/accelerating_1_New/...  accelerating_1_New"
            ],
            "text/html": [
              "\n",
              "  <div id=\"df-8697ee62-ea01-455c-87fd-6dcd3e67f325\" class=\"colab-df-container\">\n",
              "    <div>\n",
              "<style scoped>\n",
              "    .dataframe tbody tr th:only-of-type {\n",
              "        vertical-align: middle;\n",
              "    }\n",
              "\n",
              "    .dataframe tbody tr th {\n",
              "        vertical-align: top;\n",
              "    }\n",
              "\n",
              "    .dataframe thead th {\n",
              "        text-align: right;\n",
              "    }\n",
              "</style>\n",
              "<table border=\"1\" class=\"dataframe\">\n",
              "  <thead>\n",
              "    <tr style=\"text-align: right;\">\n",
              "      <th></th>\n",
              "      <th>Filepath</th>\n",
              "      <th>label</th>\n",
              "    </tr>\n",
              "  </thead>\n",
              "  <tbody>\n",
              "    <tr>\n",
              "      <th>0</th>\n",
              "      <td>/content/Tram Demo/dataset/accelerating_1_New/...</td>\n",
              "      <td>accelerating_1_New</td>\n",
              "    </tr>\n",
              "    <tr>\n",
              "      <th>1</th>\n",
              "      <td>/content/Tram Demo/dataset/accelerating_1_New/...</td>\n",
              "      <td>accelerating_1_New</td>\n",
              "    </tr>\n",
              "    <tr>\n",
              "      <th>2</th>\n",
              "      <td>/content/Tram Demo/dataset/accelerating_1_New/...</td>\n",
              "      <td>accelerating_1_New</td>\n",
              "    </tr>\n",
              "    <tr>\n",
              "      <th>3</th>\n",
              "      <td>/content/Tram Demo/dataset/accelerating_1_New/...</td>\n",
              "      <td>accelerating_1_New</td>\n",
              "    </tr>\n",
              "    <tr>\n",
              "      <th>4</th>\n",
              "      <td>/content/Tram Demo/dataset/accelerating_1_New/...</td>\n",
              "      <td>accelerating_1_New</td>\n",
              "    </tr>\n",
              "  </tbody>\n",
              "</table>\n",
              "</div>\n",
              "    <div class=\"colab-df-buttons\">\n",
              "\n",
              "  <div class=\"colab-df-container\">\n",
              "    <button class=\"colab-df-convert\" onclick=\"convertToInteractive('df-8697ee62-ea01-455c-87fd-6dcd3e67f325')\"\n",
              "            title=\"Convert this dataframe to an interactive table.\"\n",
              "            style=\"display:none;\">\n",
              "\n",
              "  <svg xmlns=\"http://www.w3.org/2000/svg\" height=\"24px\" viewBox=\"0 -960 960 960\">\n",
              "    <path d=\"M120-120v-720h720v720H120Zm60-500h600v-160H180v160Zm220 220h160v-160H400v160Zm0 220h160v-160H400v160ZM180-400h160v-160H180v160Zm440 0h160v-160H620v160ZM180-180h160v-160H180v160Zm440 0h160v-160H620v160Z\"/>\n",
              "  </svg>\n",
              "    </button>\n",
              "\n",
              "  <style>\n",
              "    .colab-df-container {\n",
              "      display:flex;\n",
              "      gap: 12px;\n",
              "    }\n",
              "\n",
              "    .colab-df-convert {\n",
              "      background-color: #E8F0FE;\n",
              "      border: none;\n",
              "      border-radius: 50%;\n",
              "      cursor: pointer;\n",
              "      display: none;\n",
              "      fill: #1967D2;\n",
              "      height: 32px;\n",
              "      padding: 0 0 0 0;\n",
              "      width: 32px;\n",
              "    }\n",
              "\n",
              "    .colab-df-convert:hover {\n",
              "      background-color: #E2EBFA;\n",
              "      box-shadow: 0px 1px 2px rgba(60, 64, 67, 0.3), 0px 1px 3px 1px rgba(60, 64, 67, 0.15);\n",
              "      fill: #174EA6;\n",
              "    }\n",
              "\n",
              "    .colab-df-buttons div {\n",
              "      margin-bottom: 4px;\n",
              "    }\n",
              "\n",
              "    [theme=dark] .colab-df-convert {\n",
              "      background-color: #3B4455;\n",
              "      fill: #D2E3FC;\n",
              "    }\n",
              "\n",
              "    [theme=dark] .colab-df-convert:hover {\n",
              "      background-color: #434B5C;\n",
              "      box-shadow: 0px 1px 3px 1px rgba(0, 0, 0, 0.15);\n",
              "      filter: drop-shadow(0px 1px 2px rgba(0, 0, 0, 0.3));\n",
              "      fill: #FFFFFF;\n",
              "    }\n",
              "  </style>\n",
              "\n",
              "    <script>\n",
              "      const buttonEl =\n",
              "        document.querySelector('#df-8697ee62-ea01-455c-87fd-6dcd3e67f325 button.colab-df-convert');\n",
              "      buttonEl.style.display =\n",
              "        google.colab.kernel.accessAllowed ? 'block' : 'none';\n",
              "\n",
              "      async function convertToInteractive(key) {\n",
              "        const element = document.querySelector('#df-8697ee62-ea01-455c-87fd-6dcd3e67f325');\n",
              "        const dataTable =\n",
              "          await google.colab.kernel.invokeFunction('convertToInteractive',\n",
              "                                                    [key], {});\n",
              "        if (!dataTable) return;\n",
              "\n",
              "        const docLinkHtml = 'Like what you see? Visit the ' +\n",
              "          '<a target=\"_blank\" href=https://colab.research.google.com/notebooks/data_table.ipynb>data table notebook</a>'\n",
              "          + ' to learn more about interactive tables.';\n",
              "        element.innerHTML = '';\n",
              "        dataTable['output_type'] = 'display_data';\n",
              "        await google.colab.output.renderOutput(dataTable, element);\n",
              "        const docLink = document.createElement('div');\n",
              "        docLink.innerHTML = docLinkHtml;\n",
              "        element.appendChild(docLink);\n",
              "      }\n",
              "    </script>\n",
              "  </div>\n",
              "\n",
              "\n",
              "<div id=\"df-7dc370b6-3d5b-4c86-a640-5c4cd8ec2d24\">\n",
              "  <button class=\"colab-df-quickchart\" onclick=\"quickchart('df-7dc370b6-3d5b-4c86-a640-5c4cd8ec2d24')\"\n",
              "            title=\"Suggest charts.\"\n",
              "            style=\"display:none;\">\n",
              "\n",
              "<svg xmlns=\"http://www.w3.org/2000/svg\" height=\"24px\"viewBox=\"0 0 24 24\"\n",
              "     width=\"24px\">\n",
              "    <g>\n",
              "        <path d=\"M19 3H5c-1.1 0-2 .9-2 2v14c0 1.1.9 2 2 2h14c1.1 0 2-.9 2-2V5c0-1.1-.9-2-2-2zM9 17H7v-7h2v7zm4 0h-2V7h2v10zm4 0h-2v-4h2v4z\"/>\n",
              "    </g>\n",
              "</svg>\n",
              "  </button>\n",
              "\n",
              "<style>\n",
              "  .colab-df-quickchart {\n",
              "      --bg-color: #E8F0FE;\n",
              "      --fill-color: #1967D2;\n",
              "      --hover-bg-color: #E2EBFA;\n",
              "      --hover-fill-color: #174EA6;\n",
              "      --disabled-fill-color: #AAA;\n",
              "      --disabled-bg-color: #DDD;\n",
              "  }\n",
              "\n",
              "  [theme=dark] .colab-df-quickchart {\n",
              "      --bg-color: #3B4455;\n",
              "      --fill-color: #D2E3FC;\n",
              "      --hover-bg-color: #434B5C;\n",
              "      --hover-fill-color: #FFFFFF;\n",
              "      --disabled-bg-color: #3B4455;\n",
              "      --disabled-fill-color: #666;\n",
              "  }\n",
              "\n",
              "  .colab-df-quickchart {\n",
              "    background-color: var(--bg-color);\n",
              "    border: none;\n",
              "    border-radius: 50%;\n",
              "    cursor: pointer;\n",
              "    display: none;\n",
              "    fill: var(--fill-color);\n",
              "    height: 32px;\n",
              "    padding: 0;\n",
              "    width: 32px;\n",
              "  }\n",
              "\n",
              "  .colab-df-quickchart:hover {\n",
              "    background-color: var(--hover-bg-color);\n",
              "    box-shadow: 0 1px 2px rgba(60, 64, 67, 0.3), 0 1px 3px 1px rgba(60, 64, 67, 0.15);\n",
              "    fill: var(--button-hover-fill-color);\n",
              "  }\n",
              "\n",
              "  .colab-df-quickchart-complete:disabled,\n",
              "  .colab-df-quickchart-complete:disabled:hover {\n",
              "    background-color: var(--disabled-bg-color);\n",
              "    fill: var(--disabled-fill-color);\n",
              "    box-shadow: none;\n",
              "  }\n",
              "\n",
              "  .colab-df-spinner {\n",
              "    border: 2px solid var(--fill-color);\n",
              "    border-color: transparent;\n",
              "    border-bottom-color: var(--fill-color);\n",
              "    animation:\n",
              "      spin 1s steps(1) infinite;\n",
              "  }\n",
              "\n",
              "  @keyframes spin {\n",
              "    0% {\n",
              "      border-color: transparent;\n",
              "      border-bottom-color: var(--fill-color);\n",
              "      border-left-color: var(--fill-color);\n",
              "    }\n",
              "    20% {\n",
              "      border-color: transparent;\n",
              "      border-left-color: var(--fill-color);\n",
              "      border-top-color: var(--fill-color);\n",
              "    }\n",
              "    30% {\n",
              "      border-color: transparent;\n",
              "      border-left-color: var(--fill-color);\n",
              "      border-top-color: var(--fill-color);\n",
              "      border-right-color: var(--fill-color);\n",
              "    }\n",
              "    40% {\n",
              "      border-color: transparent;\n",
              "      border-right-color: var(--fill-color);\n",
              "      border-top-color: var(--fill-color);\n",
              "    }\n",
              "    60% {\n",
              "      border-color: transparent;\n",
              "      border-right-color: var(--fill-color);\n",
              "    }\n",
              "    80% {\n",
              "      border-color: transparent;\n",
              "      border-right-color: var(--fill-color);\n",
              "      border-bottom-color: var(--fill-color);\n",
              "    }\n",
              "    90% {\n",
              "      border-color: transparent;\n",
              "      border-bottom-color: var(--fill-color);\n",
              "    }\n",
              "  }\n",
              "</style>\n",
              "\n",
              "  <script>\n",
              "    async function quickchart(key) {\n",
              "      const quickchartButtonEl =\n",
              "        document.querySelector('#' + key + ' button');\n",
              "      quickchartButtonEl.disabled = true;  // To prevent multiple clicks.\n",
              "      quickchartButtonEl.classList.add('colab-df-spinner');\n",
              "      try {\n",
              "        const charts = await google.colab.kernel.invokeFunction(\n",
              "            'suggestCharts', [key], {});\n",
              "      } catch (error) {\n",
              "        console.error('Error during call to suggestCharts:', error);\n",
              "      }\n",
              "      quickchartButtonEl.classList.remove('colab-df-spinner');\n",
              "      quickchartButtonEl.classList.add('colab-df-quickchart-complete');\n",
              "    }\n",
              "    (() => {\n",
              "      let quickchartButtonEl =\n",
              "        document.querySelector('#df-7dc370b6-3d5b-4c86-a640-5c4cd8ec2d24 button');\n",
              "      quickchartButtonEl.style.display =\n",
              "        google.colab.kernel.accessAllowed ? 'block' : 'none';\n",
              "    })();\n",
              "  </script>\n",
              "</div>\n",
              "    </div>\n",
              "  </div>\n"
            ]
          },
          "metadata": {},
          "execution_count": 12
        }
      ]
    },
    {
      "cell_type": "code",
      "source": [
        "# settings for the spectrograms\n",
        "\n",
        "for filename in train_df['Filepath']:\n",
        "    # Load waveform\n",
        "    y, sr = librosa.load(filename, sr=22050)\n",
        "    for i in labels:\n",
        "      if i in filename:\n",
        "        # Write to work\n",
        "        path = '../content/TramDemo_spec/'\n",
        "        newname = filename.replace(train_path, \"\")\n",
        "        newname = newname.replace(\".wav\", \".png\")\n",
        "        savepath = path + newname\n",
        "        # Create and save spectrogram\n",
        "        spectrogram_image(y, sr=sr, out=savepath, hop_length=hop_length, n_mels=n_mels)"
      ],
      "metadata": {
        "id": "t3PFK_9gN1tY"
      },
      "execution_count": 17,
      "outputs": []
    },
    {
      "cell_type": "code",
      "source": [
        "# create train csv\n",
        "rows = []\n",
        "for label in labels:\n",
        "  for spec in os.listdir('TramDemo_spec/' + label):\n",
        "      rows.append([path + label + '/' + spec, label])\n",
        "csv_creator('train_spec.csv', ['Filepath', 'label'], rows)\n",
        "train_df_spec = pd.read_csv('train_spec.csv')"
      ],
      "metadata": {
        "id": "RGLbQcvmN3LQ"
      },
      "execution_count": 18,
      "outputs": []
    },
    {
      "cell_type": "code",
      "source": [
        "# get x,y size of image using a random sample\n",
        "sample = plt.imread(train_df_spec['Filepath'][0])\n",
        "x_size, y_size = np.shape(sample)\n",
        "batch = 32 # batch size"
      ],
      "metadata": {
        "id": "TopYMMCjQH0F"
      },
      "execution_count": 19,
      "outputs": []
    },
    {
      "cell_type": "code",
      "source": [
        "# Load spectrogram files\n",
        "train_ds = tf.keras.utils.image_dataset_from_directory(\n",
        "                              path,\n",
        "                              validation_split=0.2,\n",
        "                              subset=\"training\",\n",
        "                              seed=123,\n",
        "                              image_size=(x_size, y_size),\n",
        "                              color_mode='grayscale',\n",
        "                              batch_size=batch,\n",
        "                              shuffle=True)\n",
        "val_ds = tf.keras.utils.image_dataset_from_directory(\n",
        "                              path,\n",
        "                              validation_split=0.2,\n",
        "                              subset=\"validation\",\n",
        "                              seed=123,\n",
        "                              color_mode='grayscale',\n",
        "                              image_size=(x_size, y_size),\n",
        "                              batch_size=batch,\n",
        "                              shuffle=True)"
      ],
      "metadata": {
        "colab": {
          "base_uri": "https://localhost:8080/"
        },
        "id": "26bcCVFXPkYa",
        "outputId": "c48d33c4-f5b0-4ddb-fcc8-0271147d9ae5"
      },
      "execution_count": 20,
      "outputs": [
        {
          "output_type": "stream",
          "name": "stdout",
          "text": [
            "Found 2168 files belonging to 8 classes.\n",
            "Using 1735 files for training.\n",
            "Found 2168 files belonging to 8 classes.\n",
            "Using 433 files for validation.\n"
          ]
        }
      ]
    },
    {
      "cell_type": "code",
      "source": [
        "# Model layout\n",
        "num_classes = 8\n",
        "model = Sequential([\n",
        "  tf.keras.layers.InputLayer(input_shape=(x_size, y_size, 1)),\n",
        "  Rescaling(1./255, input_shape=(x_size, y_size, 1)),\n",
        "  Conv2D(16, 3, activation='leaky_relu' , input_shape=(x_size, y_size, 1)),\n",
        "  BatchNormalization(),\n",
        "  Conv2D(32, 3, activation='leaky_relu'),\n",
        "  MaxPooling2D(),\n",
        "  BatchNormalization(),\n",
        "  Conv2D(64, 3,  activation='leaky_relu'),\n",
        "  BatchNormalization(),\n",
        "  Dropout(0.2),\n",
        "  Conv2D(128, 5, activation='leaky_relu'),\n",
        "  MaxPooling2D(),\n",
        "  BatchNormalization(),\n",
        "  Flatten(),\n",
        "  Dropout(0.2),\n",
        "  Dense(128, activation='leaky_relu'),\n",
        "  Dropout(0.2),\n",
        "  Dense(32, activation='leaky_relu'),\n",
        "  Dense(num_classes)\n",
        "])\n",
        "model.summary()\n",
        "model.build()"
      ],
      "metadata": {
        "colab": {
          "base_uri": "https://localhost:8080/"
        },
        "id": "h2EDfb92RQG6",
        "outputId": "450f47c6-f4b8-4fc7-9d96-2f00c1d10607"
      },
      "execution_count": 21,
      "outputs": [
        {
          "output_type": "stream",
          "name": "stdout",
          "text": [
            "Model: \"sequential\"\n",
            "_________________________________________________________________\n",
            " Layer (type)                Output Shape              Param #   \n",
            "=================================================================\n",
            " rescaling (Rescaling)       (None, 128, 140, 1)       0         \n",
            "                                                                 \n",
            " conv2d (Conv2D)             (None, 126, 138, 16)      160       \n",
            "                                                                 \n",
            " batch_normalization (Batch  (None, 126, 138, 16)      64        \n",
            " Normalization)                                                  \n",
            "                                                                 \n",
            " conv2d_1 (Conv2D)           (None, 124, 136, 32)      4640      \n",
            "                                                                 \n",
            " max_pooling2d (MaxPooling2  (None, 62, 68, 32)        0         \n",
            " D)                                                              \n",
            "                                                                 \n",
            " batch_normalization_1 (Bat  (None, 62, 68, 32)        128       \n",
            " chNormalization)                                                \n",
            "                                                                 \n",
            " conv2d_2 (Conv2D)           (None, 60, 66, 64)        18496     \n",
            "                                                                 \n",
            " batch_normalization_2 (Bat  (None, 60, 66, 64)        256       \n",
            " chNormalization)                                                \n",
            "                                                                 \n",
            " dropout (Dropout)           (None, 60, 66, 64)        0         \n",
            "                                                                 \n",
            " conv2d_3 (Conv2D)           (None, 56, 62, 128)       204928    \n",
            "                                                                 \n",
            " max_pooling2d_1 (MaxPoolin  (None, 28, 31, 128)       0         \n",
            " g2D)                                                            \n",
            "                                                                 \n",
            " batch_normalization_3 (Bat  (None, 28, 31, 128)       512       \n",
            " chNormalization)                                                \n",
            "                                                                 \n",
            " flatten (Flatten)           (None, 111104)            0         \n",
            "                                                                 \n",
            " dropout_1 (Dropout)         (None, 111104)            0         \n",
            "                                                                 \n",
            " dense (Dense)               (None, 128)               14221440  \n",
            "                                                                 \n",
            " dropout_2 (Dropout)         (None, 128)               0         \n",
            "                                                                 \n",
            " dense_1 (Dense)             (None, 32)                4128      \n",
            "                                                                 \n",
            " dense_2 (Dense)             (None, 8)                 264       \n",
            "                                                                 \n",
            "=================================================================\n",
            "Total params: 14455016 (55.14 MB)\n",
            "Trainable params: 14454536 (55.14 MB)\n",
            "Non-trainable params: 480 (1.88 KB)\n",
            "_________________________________________________________________\n"
          ]
        }
      ]
    },
    {
      "cell_type": "code",
      "source": [
        "callback = []\n",
        "save_best_callback = tf.keras.callbacks.ModelCheckpoint(f'../content/weights/best_weights.hdf5', save_best_only=True, verbose=1)\n",
        "callback.append(save_best_callback)\n",
        "early_stop_callback = tf.keras.callbacks.EarlyStopping(patience=8, restore_best_weights=True, verbose=1)\n",
        "callback.append(early_stop_callback)"
      ],
      "metadata": {
        "id": "82ROqe_ejP2y"
      },
      "execution_count": 22,
      "outputs": []
    },
    {
      "cell_type": "code",
      "source": [
        "initial_learning_rate = 0.0001\n",
        "lr_schedule = tf.keras.optimizers.schedules.ExponentialDecay(\n",
        "    initial_learning_rate,\n",
        "    decay_steps=100000,\n",
        "    decay_rate=0.96,\n",
        "    staircase=True)\n",
        "# Compile model\n",
        "model.compile(optimizer=tf.keras.optimizers.Adam(learning_rate=initial_learning_rate),\n",
        "              loss=tf.keras.losses.SparseCategoricalCrossentropy(from_logits=True),\n",
        "              metrics=['accuracy'])"
      ],
      "metadata": {
        "id": "-fJjFz3WKFiS"
      },
      "execution_count": 23,
      "outputs": []
    },
    {
      "cell_type": "code",
      "source": [
        "results = model.fit(train_ds, epochs=50,\n",
        "          validation_data=val_ds,\n",
        "          batch_size=batch,\n",
        "          verbose=1 , callbacks=callback)"
      ],
      "metadata": {
        "colab": {
          "base_uri": "https://localhost:8080/"
        },
        "id": "w_Stf5pWKK4i",
        "outputId": "05204e98-1b35-4ec0-b6ad-2a86f4e6c273"
      },
      "execution_count": 24,
      "outputs": [
        {
          "output_type": "stream",
          "name": "stdout",
          "text": [
            "Epoch 1/50\n",
            "55/55 [==============================] - ETA: 0s - loss: 0.7935 - accuracy: 0.7712\n",
            "Epoch 1: val_loss improved from inf to 3.69166, saving model to ../content/weights/best_weights.hdf5\n"
          ]
        },
        {
          "output_type": "stream",
          "name": "stderr",
          "text": [
            "/usr/local/lib/python3.10/dist-packages/keras/src/engine/training.py:3000: UserWarning: You are saving your model as an HDF5 file via `model.save()`. This file format is considered legacy. We recommend using instead the native Keras format, e.g. `model.save('my_model.keras')`.\n",
            "  saving_api.save_model(\n"
          ]
        },
        {
          "output_type": "stream",
          "name": "stdout",
          "text": [
            "\b\b\b\b\b\b\b\b\b\b\b\b\b\b\b\b\b\b\b\b\b\b\b\b\b\b\b\b\b\b\b\b\b\b\b\b\b\b\b\b\b\b\b\b\b\b\b\b\b\b\b\b\b\b\b\b\b\b\b\b\b\b\b\b\b\b\b\b\b\b\b\b\b\b\b\b\b\b\b\b\b\b\r55/55 [==============================] - 21s 105ms/step - loss: 0.7935 - accuracy: 0.7712 - val_loss: 3.6917 - val_accuracy: 0.0624\n",
            "Epoch 2/50\n",
            "54/55 [============================>.] - ETA: 0s - loss: 0.1034 - accuracy: 0.9728\n",
            "Epoch 2: val_loss did not improve from 3.69166\n",
            "55/55 [==============================] - 4s 79ms/step - loss: 0.1031 - accuracy: 0.9729 - val_loss: 7.3624 - val_accuracy: 0.0624\n",
            "Epoch 3/50\n",
            "54/55 [============================>.] - ETA: 0s - loss: 0.0235 - accuracy: 0.9931\n",
            "Epoch 3: val_loss did not improve from 3.69166\n",
            "55/55 [==============================] - 4s 69ms/step - loss: 0.0234 - accuracy: 0.9931 - val_loss: 8.8412 - val_accuracy: 0.0624\n",
            "Epoch 4/50\n",
            "54/55 [============================>.] - ETA: 0s - loss: 0.0120 - accuracy: 0.9959\n",
            "Epoch 4: val_loss did not improve from 3.69166\n",
            "55/55 [==============================] - 4s 69ms/step - loss: 0.0134 - accuracy: 0.9954 - val_loss: 8.2730 - val_accuracy: 0.0162\n",
            "Epoch 5/50\n",
            "54/55 [============================>.] - ETA: 0s - loss: 0.0217 - accuracy: 0.9931\n",
            "Epoch 5: val_loss did not improve from 3.69166\n",
            "55/55 [==============================] - 4s 79ms/step - loss: 0.0217 - accuracy: 0.9931 - val_loss: 9.1740 - val_accuracy: 0.0624\n",
            "Epoch 6/50\n",
            "54/55 [============================>.] - ETA: 0s - loss: 0.0064 - accuracy: 0.9988\n",
            "Epoch 6: val_loss did not improve from 3.69166\n",
            "55/55 [==============================] - 4s 74ms/step - loss: 0.0064 - accuracy: 0.9988 - val_loss: 5.9344 - val_accuracy: 0.0624\n",
            "Epoch 7/50\n",
            "54/55 [============================>.] - ETA: 0s - loss: 0.0018 - accuracy: 1.0000\n",
            "Epoch 7: val_loss improved from 3.69166 to 3.52758, saving model to ../content/weights/best_weights.hdf5\n",
            "55/55 [==============================] - 5s 81ms/step - loss: 0.0018 - accuracy: 1.0000 - val_loss: 3.5276 - val_accuracy: 0.4180\n",
            "Epoch 8/50\n",
            "54/55 [============================>.] - ETA: 0s - loss: 0.0012 - accuracy: 1.0000\n",
            "Epoch 8: val_loss improved from 3.52758 to 2.90171, saving model to ../content/weights/best_weights.hdf5\n",
            "55/55 [==============================] - 5s 92ms/step - loss: 0.0012 - accuracy: 1.0000 - val_loss: 2.9017 - val_accuracy: 0.4804\n",
            "Epoch 9/50\n",
            "54/55 [============================>.] - ETA: 0s - loss: 9.1462e-04 - accuracy: 1.0000\n",
            "Epoch 9: val_loss improved from 2.90171 to 2.06102, saving model to ../content/weights/best_weights.hdf5\n",
            "55/55 [==============================] - 4s 79ms/step - loss: 9.1222e-04 - accuracy: 1.0000 - val_loss: 2.0610 - val_accuracy: 0.5520\n",
            "Epoch 10/50\n",
            "54/55 [============================>.] - ETA: 0s - loss: 8.0200e-04 - accuracy: 1.0000\n",
            "Epoch 10: val_loss improved from 2.06102 to 1.37850, saving model to ../content/weights/best_weights.hdf5\n",
            "55/55 [==============================] - 5s 87ms/step - loss: 7.9891e-04 - accuracy: 1.0000 - val_loss: 1.3785 - val_accuracy: 0.6605\n",
            "Epoch 11/50\n",
            "54/55 [============================>.] - ETA: 0s - loss: 7.1000e-04 - accuracy: 1.0000\n",
            "Epoch 11: val_loss improved from 1.37850 to 0.68705, saving model to ../content/weights/best_weights.hdf5\n",
            "55/55 [==============================] - 6s 95ms/step - loss: 7.2689e-04 - accuracy: 1.0000 - val_loss: 0.6871 - val_accuracy: 0.8245\n",
            "Epoch 12/50\n",
            "54/55 [============================>.] - ETA: 0s - loss: 0.0142 - accuracy: 0.9965\n",
            "Epoch 12: val_loss improved from 0.68705 to 0.60658, saving model to ../content/weights/best_weights.hdf5\n",
            "55/55 [==============================] - 5s 82ms/step - loss: 0.0141 - accuracy: 0.9965 - val_loss: 0.6066 - val_accuracy: 0.8337\n",
            "Epoch 13/50\n",
            "54/55 [============================>.] - ETA: 0s - loss: 0.0198 - accuracy: 0.9919\n",
            "Epoch 13: val_loss improved from 0.60658 to 0.40193, saving model to ../content/weights/best_weights.hdf5\n",
            "55/55 [==============================] - 5s 91ms/step - loss: 0.0198 - accuracy: 0.9919 - val_loss: 0.4019 - val_accuracy: 0.9076\n",
            "Epoch 14/50\n",
            "54/55 [============================>.] - ETA: 0s - loss: 0.0056 - accuracy: 0.9983\n",
            "Epoch 14: val_loss improved from 0.40193 to 0.34764, saving model to ../content/weights/best_weights.hdf5\n",
            "55/55 [==============================] - 4s 79ms/step - loss: 0.0056 - accuracy: 0.9983 - val_loss: 0.3476 - val_accuracy: 0.9584\n",
            "Epoch 15/50\n",
            "54/55 [============================>.] - ETA: 0s - loss: 0.0026 - accuracy: 0.9994\n",
            "Epoch 15: val_loss improved from 0.34764 to 0.22428, saving model to ../content/weights/best_weights.hdf5\n",
            "55/55 [==============================] - 5s 84ms/step - loss: 0.0025 - accuracy: 0.9994 - val_loss: 0.2243 - val_accuracy: 0.9677\n",
            "Epoch 16/50\n",
            "54/55 [============================>.] - ETA: 0s - loss: 0.0014 - accuracy: 1.0000\n",
            "Epoch 16: val_loss did not improve from 0.22428\n",
            "55/55 [==============================] - 4s 75ms/step - loss: 0.0014 - accuracy: 1.0000 - val_loss: 0.2466 - val_accuracy: 0.9723\n",
            "Epoch 17/50\n",
            "54/55 [============================>.] - ETA: 0s - loss: 6.4135e-04 - accuracy: 1.0000\n",
            "Epoch 17: val_loss did not improve from 0.22428\n",
            "55/55 [==============================] - 4s 69ms/step - loss: 6.3896e-04 - accuracy: 1.0000 - val_loss: 0.2505 - val_accuracy: 0.9700\n",
            "Epoch 18/50\n",
            "54/55 [============================>.] - ETA: 0s - loss: 2.2721e-04 - accuracy: 1.0000\n",
            "Epoch 18: val_loss did not improve from 0.22428\n",
            "55/55 [==============================] - 4s 75ms/step - loss: 2.2635e-04 - accuracy: 1.0000 - val_loss: 0.2699 - val_accuracy: 0.9677\n",
            "Epoch 19/50\n",
            "54/55 [============================>.] - ETA: 0s - loss: 3.8733e-04 - accuracy: 1.0000\n",
            "Epoch 19: val_loss did not improve from 0.22428\n",
            "55/55 [==============================] - 4s 77ms/step - loss: 3.8594e-04 - accuracy: 1.0000 - val_loss: 0.2724 - val_accuracy: 0.9654\n",
            "Epoch 20/50\n",
            "54/55 [============================>.] - ETA: 0s - loss: 2.1552e-04 - accuracy: 1.0000\n",
            "Epoch 20: val_loss did not improve from 0.22428\n",
            "55/55 [==============================] - 4s 69ms/step - loss: 2.1538e-04 - accuracy: 1.0000 - val_loss: 0.2752 - val_accuracy: 0.9677\n",
            "Epoch 21/50\n",
            "54/55 [============================>.] - ETA: 0s - loss: 9.9717e-05 - accuracy: 1.0000\n",
            "Epoch 21: val_loss did not improve from 0.22428\n",
            "55/55 [==============================] - 4s 76ms/step - loss: 9.9427e-05 - accuracy: 1.0000 - val_loss: 0.2830 - val_accuracy: 0.9654\n",
            "Epoch 22/50\n",
            "54/55 [============================>.] - ETA: 0s - loss: 2.3134e-04 - accuracy: 1.0000\n",
            "Epoch 22: val_loss did not improve from 0.22428\n",
            "55/55 [==============================] - 5s 81ms/step - loss: 2.3041e-04 - accuracy: 1.0000 - val_loss: 0.2871 - val_accuracy: 0.9677\n",
            "Epoch 23/50\n",
            "54/55 [============================>.] - ETA: 0s - loss: 1.8321e-04 - accuracy: 1.0000\n",
            "Epoch 23: val_loss did not improve from 0.22428\n",
            "Restoring model weights from the end of the best epoch: 15.\n",
            "55/55 [==============================] - 4s 72ms/step - loss: 1.8247e-04 - accuracy: 1.0000 - val_loss: 0.3087 - val_accuracy: 0.9677\n",
            "Epoch 23: early stopping\n"
          ]
        }
      ]
    },
    {
      "cell_type": "code",
      "source": [
        "# Review training with the following plots\n",
        "# Plot Metrics\n",
        "fig, axs = plt.subplots(1, 2, figsize=(18, 10))\n",
        "fig.suptitle('Accuracy & Loss Plots', fontsize=13)\n",
        "axs[0].plot(results.history['accuracy'])\n",
        "axs[0].plot(results.history['val_accuracy'])\n",
        "axs[0].set_title('Training-Validation Accuracy', fontsize=12)\n",
        "axs[1].plot(results.history['loss'])\n",
        "axs[1].plot(results.history['val_loss'])\n",
        "axs[1].set_title('Training-Validation Loss', fontsize=12)\n",
        "fig.legend(['Training Set', 'Validation Set'], loc='lower right', fontsize=15)\n",
        "plt.show()"
      ],
      "metadata": {
        "colab": {
          "base_uri": "https://localhost:8080/",
          "height": 908
        },
        "id": "3xchnMdbiAFb",
        "outputId": "e5a129af-fbaf-4e30-fa9d-ad888715ce78"
      },
      "execution_count": 25,
      "outputs": [
        {
          "output_type": "display_data",
          "data": {
            "text/plain": [
              "<Figure size 1800x1000 with 2 Axes>"
            ],
            "image/png": "[encoded data removed]"
          },
          "metadata": {}
        }
      ]
    },
    {
      "cell_type": "code",
      "source": [
        "# test samples\n",
        "test_path = '/content/TramDemo_spec_test/specfiles/'\n",
        "test_ds = tf.keras.utils.image_dataset_from_directory(\n",
        "                              test_path,\n",
        "                              seed=123,\n",
        "                              labels = None,\n",
        "                              color_mode='grayscale',\n",
        "                              image_size=(x_size, y_size),\n",
        "                              batch_size=batch,\n",
        "                              shuffle=False)"
      ],
      "metadata": {
        "colab": {
          "base_uri": "https://localhost:8080/"
        },
        "id": "g1l8gfJOsYab",
        "outputId": "f57a4946-3e1a-4e03-b1a5-3f9ea069cd4c"
      },
      "execution_count": 26,
      "outputs": [
        {
          "output_type": "stream",
          "name": "stdout",
          "text": [
            "Found 500 files belonging to 1 classes.\n"
          ]
        }
      ]
    },
    {
      "cell_type": "code",
      "source": [
        "predictions = model.predict(test_ds, batch_size=batch)"
      ],
      "metadata": {
        "colab": {
          "base_uri": "https://localhost:8080/"
        },
        "id": "1Sc4gxk4_wol",
        "outputId": "7de606af-24ad-4898-b5f7-73a28a6bec8b"
      },
      "execution_count": 27,
      "outputs": [
        {
          "output_type": "stream",
          "name": "stdout",
          "text": [
            "16/16 [==============================] - 1s 45ms/step\n"
          ]
        }
      ]
    },
    {
      "cell_type": "code",
      "source": [
        "score = tf.nn.softmax(predictions)"
      ],
      "metadata": {
        "id": "ysGdn2qTACb3"
      },
      "execution_count": 28,
      "outputs": []
    },
    {
      "cell_type": "code",
      "source": [
        "# Save csv file\n",
        "csv_list = []\n",
        "sec_offset = 0\n",
        "for i in range(len(score)):\n",
        "  row = [0, 0, 0, 0, 0, 0, 0, 0, 0]\n",
        "  class_idx = np.argmax(score[i])\n",
        "  sec_offset += 3 # due to the samples being 3 second long each\n",
        "  if sec_offset == 300:\n",
        "    sec_offset = 0\n",
        "  row[0] = sec_offset\n",
        "  row[class_idx + 1] = 1\n",
        "  csv_list.append(row)\n",
        "csv_creator('predictions.csv', ['seconds_offset', 'accelerating_1_New','accelerating_2_CKD_Long','accelerating_3_CKD_Short',\n",
        "                                'accelerating_4_Old','braking_1_New','braking_2_CKD_Long','braking_3_CKD_Short','braking_4_Old'], csv_list)\n"
      ],
      "metadata": {
        "id": "lQ0Q3K7NATVg"
      },
      "execution_count": 29,
      "outputs": []
    }
  ]
}