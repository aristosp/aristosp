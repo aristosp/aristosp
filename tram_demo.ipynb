{
  "nbformat": 4,
  "nbformat_minor": 0,
  "metadata": {
    "colab": {
      "provenance": [],
      "gpuType": "T4",
      "mount_file_id": "1ydGPWMmYEQIWy6RPBe1imRdEyrbOepZp",
      "authorship_tag": "ABX9TyPHjJ8KvZBhlGXqj5jHl6Iq",
      "include_colab_link": true
    },
    "kernelspec": {
      "name": "python3",
      "display_name": "Python 3"
    },
    "language_info": {
      "name": "python"
    },
    "accelerator": "GPU"
  },
  "cells": [
    {
      "cell_type": "markdown",
      "metadata": {
        "id": "view-in-github",
        "colab_type": "text"
      },
      "source": [
        "<a href=\"https://colab.research.google.com/github/aristosp/aristosp/blob/main/tram_demo.ipynb\" target=\"_parent\"><img src=\"https://colab.research.google.com/assets/colab-badge.svg\" alt=\"Open In Colab\"/></a>"
      ]
    },
    {
      "cell_type": "code",
      "execution_count": null,
      "metadata": {
        "id": "0O9R5HgCg4Wu"
      },
      "outputs": [],
      "source": [
        "# Import Dependencies\n",
        "import os\n",
        "import zipfile\n",
        "import tensorflow as tf\n",
        "from keras.models import Sequential\n",
        "import pandas as pd\n",
        "import numpy as np\n",
        "from matplotlib import pyplot as plt\n",
        "from keras.layers import Dense, MaxPooling2D, BatchNormalization, Dropout, Conv2D, Input, Rescaling, GlobalMaxPool2D, Flatten\n",
        "import csv\n",
        "import re\n",
        "import skimage.io\n",
        "import librosa\n",
        "import soundfile\n",
        "from pathlib import Path"
      ]
    },
    {
      "cell_type": "code",
      "source": [
        "local_zip = '/content/drive/MyDrive/Tram Demo.zip'\n",
        "zip_ref = zipfile.ZipFile(local_zip, 'r')\n",
        "zip_ref.extractall('/content')\n",
        "zip_ref.close()"
      ],
      "metadata": {
        "id": "gvvqT1xO5Jbl"
      },
      "execution_count": null,
      "outputs": []
    },
    {
      "cell_type": "code",
      "source": [
        "# Create csv file of image directory and corresponding label\n",
        "def sorted_natural(data):\n",
        "    \"\"\"\n",
        "    This function sorts its input naturally instead of alphabetically\n",
        "    :param data: Input to be sorted\n",
        "    :return: it's input, sorted naturally\n",
        "    \"\"\"\n",
        "    convert = lambda text: int(text) if text.isdigit() else text.lower()\n",
        "    alphanum_key = lambda key: [convert(c) for c in re.split('([0-9]+)', key)]\n",
        "    return sorted(data, key=alphanum_key)\n",
        "\n",
        "\n",
        "def csv_creator(filename, fields, rows):\n",
        "    \"\"\"\n",
        "    This function creates a csv file, filling it with the contents of fields and rows\n",
        "    :param filename: Path and name to save the created file\n",
        "    :param fields: Data to fill the fields of the csv file\n",
        "    :param rows: Data to fill the rows of the csv file\n",
        "    :return: Null\n",
        "    \"\"\"\n",
        "    with open(filename, 'w', newline='') as csvfile:\n",
        "        # creating a csv writer object\n",
        "        csvwriter = csv.writer(csvfile)\n",
        "        # writing the fields\n",
        "        csvwriter.writerow(fields)\n",
        "        # writing the data rows\n",
        "        csvwriter.writerows(rows)\n",
        "\n",
        "\n",
        "def scale_minmax(X, min=0.0, max=1.0):\n",
        "    X_std = (X - X.min()) / (X.max() - X.min())\n",
        "    X_scaled = X_std * (max - min) + min\n",
        "    return X_scaled\n",
        "\n",
        "def spectrogram_image(y, sr, out, hop_length, n_mels):\n",
        "    # use log-melspectrogram\n",
        "    mels = librosa.feature.melspectrogram(y=y, sr=sr, n_mels=n_mels,\n",
        "                                            n_fft=hop_length*2, hop_length=hop_length)\n",
        "    mels = np.log(mels + 1e-9) # add small number to avoid log(0)\n",
        "\n",
        "    # min-max scale to fit inside 8-bit range\n",
        "    img = scale_minmax(mels, 0, 255).astype(np.uint8)\n",
        "    img = np.flip(img, axis=0) # put low frequencies at the bottom in image\n",
        "    img = 255-img # invert. make black==more energy\n",
        "\n",
        "    # save as PNG\n",
        "    skimage.io.imsave(out, img)"
      ],
      "metadata": {
        "id": "uRQE4EPV5tPV"
      },
      "execution_count": null,
      "outputs": []
    },
    {
      "cell_type": "code",
      "source": [
        "def audio_split(file, filename, savelocation, sr, segment_len):\n",
        "    # split audio sample when the sample is larger than 3 seconds\n",
        "    y, _ = librosa.load(file, sr=sr)\n",
        "    duration_in_sec =int(librosa.get_duration(y=y))\n",
        "    segment_duration = int(segment_len * len(y) / duration_in_sec)\n",
        "    for sec in range(0, duration_in_sec, segment_len):\n",
        "        final_loc = savelocation + '/' + str(sec) + '_' + filename\n",
        "        if sec == 0:\n",
        "            t1 = sec * segment_duration\n",
        "            t2 = t1 + segment_duration\n",
        "            split_audio = y[t1:t2]\n",
        "            soundfile.write(final_loc,split_audio, samplerate=sr)\n",
        "        else:\n",
        "            t1 = previous_t2\n",
        "            t2 = t1 + segment_duration\n",
        "            split_audio = y[t1:t2]\n",
        "            soundfile.write(final_loc, split_audio, samplerate=sr)\n",
        "        previous_t2 = t2"
      ],
      "metadata": {
        "id": "W0cENp973Oj9"
      },
      "execution_count": null,
      "outputs": []
    },
    {
      "cell_type": "code",
      "source": [
        "path = Path('/content/Tram Demo')\n",
        "train_path = '/content/Tram Demo/dataset/'"
      ],
      "metadata": {
        "id": "V7lP6UAt5ulV"
      },
      "execution_count": null,
      "outputs": []
    },
    {
      "cell_type": "code",
      "source": [
        "folder = '/content/Tram Demo/test_files/'\n",
        "for og_name in os.listdir(folder):\n",
        "    os.makedirs(os.path.join('TramDemo_spec_test/testfiles/', og_name))"
      ],
      "metadata": {
        "id": "havIq54i8pid"
      },
      "execution_count": null,
      "outputs": []
    },
    {
      "cell_type": "code",
      "source": [
        "for filename in os.listdir(folder):\n",
        "    print(filename)\n",
        "    saveloc = '/content/TramDemo_spec_test/testfiles/' + filename\n",
        "    print(saveloc)\n",
        "    filepath = folder + '/' + filename\n",
        "    audio_split(filepath, filename, saveloc, 22050, 3)\n"
      ],
      "metadata": {
        "id": "m8F6iLAi3P0S",
        "colab": {
          "base_uri": "https://localhost:8080/"
        },
        "outputId": "9500e916-5394-42c6-df25-bb3c97bffc11"
      },
      "execution_count": null,
      "outputs": [
        {
          "output_type": "stream",
          "name": "stdout",
          "text": [
            "tram-2018-11-30-15-30-17.wav\n",
            "/content/TramDemo_spec_test/testfiles/tram-2018-11-30-15-30-17.wav\n",
            "tram-2018-12-07-22-13-44.wav\n",
            "/content/TramDemo_spec_test/testfiles/tram-2018-12-07-22-13-44.wav\n",
            "tram-2018-12-07-15-32-08.wav\n",
            "/content/TramDemo_spec_test/testfiles/tram-2018-12-07-15-32-08.wav\n",
            "tram-2018-12-05-16-20-38.wav\n",
            "/content/TramDemo_spec_test/testfiles/tram-2018-12-05-16-20-38.wav\n",
            "tram-2018-12-08-05-44-08.wav\n",
            "/content/TramDemo_spec_test/testfiles/tram-2018-12-08-05-44-08.wav\n"
          ]
        }
      ]
    },
    {
      "cell_type": "code",
      "source": [
        "# folder = '/content/TramDemo_spec_test/specfiles/'\n",
        "for og_name in os.listdir('/content/TramDemo_spec_test/testfiles'):\n",
        "    os.makedirs(os.path.join('/content/TramDemo_spec_test/specfiles/', og_name))"
      ],
      "metadata": {
        "id": "oUj3qUowSvJb"
      },
      "execution_count": null,
      "outputs": []
    },
    {
      "cell_type": "code",
      "source": [
        "# settings\n",
        "hop_length = 500 # number of samples per time-step in spectrogram\n",
        "n_mels = 128 # number of bins in spectrogram. Height of image\n",
        "time_steps = 384 # number of time-steps. Width of image\n",
        "newfolder = '/content/TramDemo_spec_test/testfiles/'\n",
        "for og_file in os.listdir(newfolder):\n",
        "  for filename in os.listdir(newfolder + og_file):\n",
        "    # Load waveform\n",
        "    y, sr = librosa.load(newfolder + og_file + '/'+ filename, sr=22050)\n",
        "    assert sr == 22050\n",
        "    # Write to path\n",
        "    path = '../content/TramDemo_spec_test/specfiles/'\n",
        "    savepath = path + og_file +'/' + filename + '.png'\n",
        "    spectrogram_image(y, sr=sr, out=savepath, hop_length=hop_length, n_mels=n_mels)"
      ],
      "metadata": {
        "id": "3H2wd1W7-b6q"
      },
      "execution_count": null,
      "outputs": []
    },
    {
      "cell_type": "code",
      "source": [
        "labels = sorted_natural(os.listdir(train_path))"
      ],
      "metadata": {
        "id": "TiphYxZk53EV"
      },
      "execution_count": null,
      "outputs": []
    },
    {
      "cell_type": "code",
      "source": [
        "sample_paths = []\n",
        "for j in range(len(labels)):\n",
        "  for i in os.listdir(train_path + labels[j]):\n",
        "    sample_paths.append(labels[j] + '/' + i)"
      ],
      "metadata": {
        "id": "5rMqNZol7Diw"
      },
      "execution_count": null,
      "outputs": []
    },
    {
      "cell_type": "code",
      "source": [
        "data_paths = []\n",
        "for i in sample_paths:\n",
        "  data_paths.append(train_path + i)"
      ],
      "metadata": {
        "id": "ogZHCI-_7aq6"
      },
      "execution_count": null,
      "outputs": []
    },
    {
      "cell_type": "code",
      "source": [
        "train_rows = []\n",
        "filepaths = []\n",
        "for i in range(len(data_paths)):\n",
        "    for j in labels:\n",
        "      if j in data_paths[i]:\n",
        "        train_rows.append([data_paths[i] , j])"
      ],
      "metadata": {
        "id": "7OqYtzPR_BhU"
      },
      "execution_count": null,
      "outputs": []
    },
    {
      "cell_type": "code",
      "source": [
        "# Save csv file\n",
        "csv_creator('train.csv', ['Filepath', 'label'], train_rows)\n",
        "# Read csv file\n",
        "train_df = pd.read_csv('train.csv')"
      ],
      "metadata": {
        "id": "50tJ8gWKD6N5"
      },
      "execution_count": null,
      "outputs": []
    },
    {
      "cell_type": "code",
      "source": [
        "df = pd.read_csv(\"train.csv\")\n",
        "df.head()"
      ],
      "metadata": {
        "id": "iqUd7-sgGO-9",
        "colab": {
          "base_uri": "https://localhost:8080/",
          "height": 206
        },
        "outputId": "cc49f9ff-b031-4605-fad6-58cd5ccc3e18"
      },
      "execution_count": null,
      "outputs": [
        {
          "output_type": "execute_result",
          "data": {
            "text/plain": [
              "                                            Filepath               label\n",
              "0  /content/Tram Demo/dataset/accelerating_1_New/...  accelerating_1_New\n",
              "1  /content/Tram Demo/dataset/accelerating_1_New/...  accelerating_1_New\n",
              "2  /content/Tram Demo/dataset/accelerating_1_New/...  accelerating_1_New\n",
              "3  /content/Tram Demo/dataset/accelerating_1_New/...  accelerating_1_New\n",
              "4  /content/Tram Demo/dataset/accelerating_1_New/...  accelerating_1_New"
            ],
            "text/html": [
              "\n",
              "  <div id=\"df-70b57e94-7b18-4c25-9745-9c50145c2989\" class=\"colab-df-container\">\n",
              "    <div>\n",
              "<style scoped>\n",
              "    .dataframe tbody tr th:only-of-type {\n",
              "        vertical-align: middle;\n",
              "    }\n",
              "\n",
              "    .dataframe tbody tr th {\n",
              "        vertical-align: top;\n",
              "    }\n",
              "\n",
              "    .dataframe thead th {\n",
              "        text-align: right;\n",
              "    }\n",
              "</style>\n",
              "<table border=\"1\" class=\"dataframe\">\n",
              "  <thead>\n",
              "    <tr style=\"text-align: right;\">\n",
              "      <th></th>\n",
              "      <th>Filepath</th>\n",
              "      <th>label</th>\n",
              "    </tr>\n",
              "  </thead>\n",
              "  <tbody>\n",
              "    <tr>\n",
              "      <th>0</th>\n",
              "      <td>/content/Tram Demo/dataset/accelerating_1_New/...</td>\n",
              "      <td>accelerating_1_New</td>\n",
              "    </tr>\n",
              "    <tr>\n",
              "      <th>1</th>\n",
              "      <td>/content/Tram Demo/dataset/accelerating_1_New/...</td>\n",
              "      <td>accelerating_1_New</td>\n",
              "    </tr>\n",
              "    <tr>\n",
              "      <th>2</th>\n",
              "      <td>/content/Tram Demo/dataset/accelerating_1_New/...</td>\n",
              "      <td>accelerating_1_New</td>\n",
              "    </tr>\n",
              "    <tr>\n",
              "      <th>3</th>\n",
              "      <td>/content/Tram Demo/dataset/accelerating_1_New/...</td>\n",
              "      <td>accelerating_1_New</td>\n",
              "    </tr>\n",
              "    <tr>\n",
              "      <th>4</th>\n",
              "      <td>/content/Tram Demo/dataset/accelerating_1_New/...</td>\n",
              "      <td>accelerating_1_New</td>\n",
              "    </tr>\n",
              "  </tbody>\n",
              "</table>\n",
              "</div>\n",
              "    <div class=\"colab-df-buttons\">\n",
              "\n",
              "  <div class=\"colab-df-container\">\n",
              "    <button class=\"colab-df-convert\" onclick=\"convertToInteractive('df-70b57e94-7b18-4c25-9745-9c50145c2989')\"\n",
              "            title=\"Convert this dataframe to an interactive table.\"\n",
              "            style=\"display:none;\">\n",
              "\n",
              "  <svg xmlns=\"http://www.w3.org/2000/svg\" height=\"24px\" viewBox=\"0 -960 960 960\">\n",
              "    <path d=\"M120-120v-720h720v720H120Zm60-500h600v-160H180v160Zm220 220h160v-160H400v160Zm0 220h160v-160H400v160ZM180-400h160v-160H180v160Zm440 0h160v-160H620v160ZM180-180h160v-160H180v160Zm440 0h160v-160H620v160Z\"/>\n",
              "  </svg>\n",
              "    </button>\n",
              "\n",
              "  <style>\n",
              "    .colab-df-container {\n",
              "      display:flex;\n",
              "      gap: 12px;\n",
              "    }\n",
              "\n",
              "    .colab-df-convert {\n",
              "      background-color: #E8F0FE;\n",
              "      border: none;\n",
              "      border-radius: 50%;\n",
              "      cursor: pointer;\n",
              "      display: none;\n",
              "      fill: #1967D2;\n",
              "      height: 32px;\n",
              "      padding: 0 0 0 0;\n",
              "      width: 32px;\n",
              "    }\n",
              "\n",
              "    .colab-df-convert:hover {\n",
              "      background-color: #E2EBFA;\n",
              "      box-shadow: 0px 1px 2px rgba(60, 64, 67, 0.3), 0px 1px 3px 1px rgba(60, 64, 67, 0.15);\n",
              "      fill: #174EA6;\n",
              "    }\n",
              "\n",
              "    .colab-df-buttons div {\n",
              "      margin-bottom: 4px;\n",
              "    }\n",
              "\n",
              "    [theme=dark] .colab-df-convert {\n",
              "      background-color: #3B4455;\n",
              "      fill: #D2E3FC;\n",
              "    }\n",
              "\n",
              "    [theme=dark] .colab-df-convert:hover {\n",
              "      background-color: #434B5C;\n",
              "      box-shadow: 0px 1px 3px 1px rgba(0, 0, 0, 0.15);\n",
              "      filter: drop-shadow(0px 1px 2px rgba(0, 0, 0, 0.3));\n",
              "      fill: #FFFFFF;\n",
              "    }\n",
              "  </style>\n",
              "\n",
              "    <script>\n",
              "      const buttonEl =\n",
              "        document.querySelector('#df-70b57e94-7b18-4c25-9745-9c50145c2989 button.colab-df-convert');\n",
              "      buttonEl.style.display =\n",
              "        google.colab.kernel.accessAllowed ? 'block' : 'none';\n",
              "\n",
              "      async function convertToInteractive(key) {\n",
              "        const element = document.querySelector('#df-70b57e94-7b18-4c25-9745-9c50145c2989');\n",
              "        const dataTable =\n",
              "          await google.colab.kernel.invokeFunction('convertToInteractive',\n",
              "                                                    [key], {});\n",
              "        if (!dataTable) return;\n",
              "\n",
              "        const docLinkHtml = 'Like what you see? Visit the ' +\n",
              "          '<a target=\"_blank\" href=https://colab.research.google.com/notebooks/data_table.ipynb>data table notebook</a>'\n",
              "          + ' to learn more about interactive tables.';\n",
              "        element.innerHTML = '';\n",
              "        dataTable['output_type'] = 'display_data';\n",
              "        await google.colab.output.renderOutput(dataTable, element);\n",
              "        const docLink = document.createElement('div');\n",
              "        docLink.innerHTML = docLinkHtml;\n",
              "        element.appendChild(docLink);\n",
              "      }\n",
              "    </script>\n",
              "  </div>\n",
              "\n",
              "\n",
              "<div id=\"df-98271054-e67e-4e01-8d0a-e272b3c1fe56\">\n",
              "  <button class=\"colab-df-quickchart\" onclick=\"quickchart('df-98271054-e67e-4e01-8d0a-e272b3c1fe56')\"\n",
              "            title=\"Suggest charts.\"\n",
              "            style=\"display:none;\">\n",
              "\n",
              "<svg xmlns=\"http://www.w3.org/2000/svg\" height=\"24px\"viewBox=\"0 0 24 24\"\n",
              "     width=\"24px\">\n",
              "    <g>\n",
              "        <path d=\"M19 3H5c-1.1 0-2 .9-2 2v14c0 1.1.9 2 2 2h14c1.1 0 2-.9 2-2V5c0-1.1-.9-2-2-2zM9 17H7v-7h2v7zm4 0h-2V7h2v10zm4 0h-2v-4h2v4z\"/>\n",
              "    </g>\n",
              "</svg>\n",
              "  </button>\n",
              "\n",
              "<style>\n",
              "  .colab-df-quickchart {\n",
              "      --bg-color: #E8F0FE;\n",
              "      --fill-color: #1967D2;\n",
              "      --hover-bg-color: #E2EBFA;\n",
              "      --hover-fill-color: #174EA6;\n",
              "      --disabled-fill-color: #AAA;\n",
              "      --disabled-bg-color: #DDD;\n",
              "  }\n",
              "\n",
              "  [theme=dark] .colab-df-quickchart {\n",
              "      --bg-color: #3B4455;\n",
              "      --fill-color: #D2E3FC;\n",
              "      --hover-bg-color: #434B5C;\n",
              "      --hover-fill-color: #FFFFFF;\n",
              "      --disabled-bg-color: #3B4455;\n",
              "      --disabled-fill-color: #666;\n",
              "  }\n",
              "\n",
              "  .colab-df-quickchart {\n",
              "    background-color: var(--bg-color);\n",
              "    border: none;\n",
              "    border-radius: 50%;\n",
              "    cursor: pointer;\n",
              "    display: none;\n",
              "    fill: var(--fill-color);\n",
              "    height: 32px;\n",
              "    padding: 0;\n",
              "    width: 32px;\n",
              "  }\n",
              "\n",
              "  .colab-df-quickchart:hover {\n",
              "    background-color: var(--hover-bg-color);\n",
              "    box-shadow: 0 1px 2px rgba(60, 64, 67, 0.3), 0 1px 3px 1px rgba(60, 64, 67, 0.15);\n",
              "    fill: var(--button-hover-fill-color);\n",
              "  }\n",
              "\n",
              "  .colab-df-quickchart-complete:disabled,\n",
              "  .colab-df-quickchart-complete:disabled:hover {\n",
              "    background-color: var(--disabled-bg-color);\n",
              "    fill: var(--disabled-fill-color);\n",
              "    box-shadow: none;\n",
              "  }\n",
              "\n",
              "  .colab-df-spinner {\n",
              "    border: 2px solid var(--fill-color);\n",
              "    border-color: transparent;\n",
              "    border-bottom-color: var(--fill-color);\n",
              "    animation:\n",
              "      spin 1s steps(1) infinite;\n",
              "  }\n",
              "\n",
              "  @keyframes spin {\n",
              "    0% {\n",
              "      border-color: transparent;\n",
              "      border-bottom-color: var(--fill-color);\n",
              "      border-left-color: var(--fill-color);\n",
              "    }\n",
              "    20% {\n",
              "      border-color: transparent;\n",
              "      border-left-color: var(--fill-color);\n",
              "      border-top-color: var(--fill-color);\n",
              "    }\n",
              "    30% {\n",
              "      border-color: transparent;\n",
              "      border-left-color: var(--fill-color);\n",
              "      border-top-color: var(--fill-color);\n",
              "      border-right-color: var(--fill-color);\n",
              "    }\n",
              "    40% {\n",
              "      border-color: transparent;\n",
              "      border-right-color: var(--fill-color);\n",
              "      border-top-color: var(--fill-color);\n",
              "    }\n",
              "    60% {\n",
              "      border-color: transparent;\n",
              "      border-right-color: var(--fill-color);\n",
              "    }\n",
              "    80% {\n",
              "      border-color: transparent;\n",
              "      border-right-color: var(--fill-color);\n",
              "      border-bottom-color: var(--fill-color);\n",
              "    }\n",
              "    90% {\n",
              "      border-color: transparent;\n",
              "      border-bottom-color: var(--fill-color);\n",
              "    }\n",
              "  }\n",
              "</style>\n",
              "\n",
              "  <script>\n",
              "    async function quickchart(key) {\n",
              "      const quickchartButtonEl =\n",
              "        document.querySelector('#' + key + ' button');\n",
              "      quickchartButtonEl.disabled = true;  // To prevent multiple clicks.\n",
              "      quickchartButtonEl.classList.add('colab-df-spinner');\n",
              "      try {\n",
              "        const charts = await google.colab.kernel.invokeFunction(\n",
              "            'suggestCharts', [key], {});\n",
              "      } catch (error) {\n",
              "        console.error('Error during call to suggestCharts:', error);\n",
              "      }\n",
              "      quickchartButtonEl.classList.remove('colab-df-spinner');\n",
              "      quickchartButtonEl.classList.add('colab-df-quickchart-complete');\n",
              "    }\n",
              "    (() => {\n",
              "      let quickchartButtonEl =\n",
              "        document.querySelector('#df-98271054-e67e-4e01-8d0a-e272b3c1fe56 button');\n",
              "      quickchartButtonEl.style.display =\n",
              "        google.colab.kernel.accessAllowed ? 'block' : 'none';\n",
              "    })();\n",
              "  </script>\n",
              "</div>\n",
              "    </div>\n",
              "  </div>\n"
            ]
          },
          "metadata": {},
          "execution_count": 15
        }
      ]
    },
    {
      "cell_type": "code",
      "source": [
        "waveform, sample_rate = librosa.load(train_df['Filepath'][5], res_type='kaiser_fast')\n",
        "print(\"Shape of waveform: {}\".format(waveform.size))\n",
        "print(\"Sample rate of waveform: {}\".format(sample_rate))\n",
        "print(\"Duration of waveform: {}\".format(librosa.get_duration(y=waveform)))\n",
        "mels = librosa.feature.melspectrogram(y=waveform, sr=sample_rate, n_mels=128,\n",
        "                                        n_fft=500*2, hop_length=500)\n",
        "mels = np.log(mels + 1e-9) # add small number to avoid log(0)\n",
        "\n",
        "# min-max scale to fit inside 8-bit range\n",
        "img = scale_minmax(mels, 0, 255).astype(np.uint8)\n",
        "img = np.flip(img, axis=0) # put low frequencies at the bottom in image\n",
        "img = 255-img # invert. make black==more energy\n",
        "plt.imshow(img, cmap='gray')"
      ],
      "metadata": {
        "id": "nVqq1qwwEGr3",
        "colab": {
          "base_uri": "https://localhost:8080/",
          "height": 306
        },
        "outputId": "ae4b7911-3bd7-4d08-a078-342e201b8a93"
      },
      "execution_count": null,
      "outputs": [
        {
          "output_type": "stream",
          "name": "stdout",
          "text": [
            "Shape of waveform: 184338\n",
            "Sample rate of waveform: 22050\n",
            "Duration of waveform: 8.36\n"
          ]
        },
        {
          "output_type": "execute_result",
          "data": {
            "text/plain": [
              "<matplotlib.image.AxesImage at 0x7eba436e1bd0>"
            ]
          },
          "metadata": {},
          "execution_count": 16
        },
        {
          "output_type": "display_data",
          "data": {
            "text/plain": [
              "<Figure size 640x480 with 1 Axes>"
            ],
            "image/png": "[encoded data removed]"
          },
          "metadata": {}
        }
      ]
    },
    {
      "cell_type": "code",
      "source": [
        "for subfolder_name in labels:\n",
        "    os.makedirs(os.path.join('TramDemo_spec', subfolder_name))"
      ],
      "metadata": {
        "id": "r8m-2KJBNzXz"
      },
      "execution_count": null,
      "outputs": []
    },
    {
      "cell_type": "code",
      "source": [
        "# settings\n",
        "hop_length = 500 # number of samples per time-step in spectrogram\n",
        "n_mels = 128 # number of bins in spectrogram. Height of image\n",
        "time_steps = 384 # number of time-steps. Width of image\n",
        "\n",
        "for filename in train_df['Filepath']:\n",
        "    # Load waveform\n",
        "    y, sr = librosa.load(filename, sr=22050)\n",
        "    assert sr == 22050\n",
        "    for i in labels:\n",
        "      if i in filename:\n",
        "        # Write to work\n",
        "        path = '../content/TramDemo_spec/'\n",
        "        newname = filename.replace(train_path, \"\")\n",
        "        newname = newname.replace(\".wav\", \".png\")\n",
        "        savepath = path + newname\n",
        "        # Create and save spectrogram\n",
        "        spectrogram_image(y, sr=sr, out=savepath, hop_length=hop_length, n_mels=n_mels)"
      ],
      "metadata": {
        "id": "t3PFK_9gN1tY"
      },
      "execution_count": null,
      "outputs": []
    },
    {
      "cell_type": "code",
      "source": [
        "rows = []\n",
        "for label in labels:\n",
        "  for spec in os.listdir('TramDemo_spec/' + label):\n",
        "      rows.append([path + label + '/' + spec, label])\n",
        "csv_creator('train_spec.csv', ['Filepath', 'label'], rows)"
      ],
      "metadata": {
        "id": "RGLbQcvmN3LQ"
      },
      "execution_count": null,
      "outputs": []
    },
    {
      "cell_type": "code",
      "source": [
        "trainSpecDf = pd.read_csv('train_spec.csv')\n",
        "trainSpecDf.head()"
      ],
      "metadata": {
        "colab": {
          "base_uri": "https://localhost:8080/",
          "height": 206
        },
        "id": "bKK5xUFEeo7U",
        "outputId": "d5716c5f-9225-4499-e8db-5ca71511eef1"
      },
      "execution_count": null,
      "outputs": [
        {
          "output_type": "execute_result",
          "data": {
            "text/plain": [
              "                                            Filepath               label\n",
              "0  ../content/TramDemo_spec/accelerating_1_New/tr...  accelerating_1_New\n",
              "1  ../content/TramDemo_spec/accelerating_1_New/tr...  accelerating_1_New\n",
              "2  ../content/TramDemo_spec/accelerating_1_New/tr...  accelerating_1_New\n",
              "3  ../content/TramDemo_spec/accelerating_1_New/tr...  accelerating_1_New\n",
              "4  ../content/TramDemo_spec/accelerating_1_New/tr...  accelerating_1_New"
            ],
            "text/html": [
              "\n",
              "  <div id=\"df-352f88f0-ab4d-44e9-a9d8-614d8ae180cf\" class=\"colab-df-container\">\n",
              "    <div>\n",
              "<style scoped>\n",
              "    .dataframe tbody tr th:only-of-type {\n",
              "        vertical-align: middle;\n",
              "    }\n",
              "\n",
              "    .dataframe tbody tr th {\n",
              "        vertical-align: top;\n",
              "    }\n",
              "\n",
              "    .dataframe thead th {\n",
              "        text-align: right;\n",
              "    }\n",
              "</style>\n",
              "<table border=\"1\" class=\"dataframe\">\n",
              "  <thead>\n",
              "    <tr style=\"text-align: right;\">\n",
              "      <th></th>\n",
              "      <th>Filepath</th>\n",
              "      <th>label</th>\n",
              "    </tr>\n",
              "  </thead>\n",
              "  <tbody>\n",
              "    <tr>\n",
              "      <th>0</th>\n",
              "      <td>../content/TramDemo_spec/accelerating_1_New/tr...</td>\n",
              "      <td>accelerating_1_New</td>\n",
              "    </tr>\n",
              "    <tr>\n",
              "      <th>1</th>\n",
              "      <td>../content/TramDemo_spec/accelerating_1_New/tr...</td>\n",
              "      <td>accelerating_1_New</td>\n",
              "    </tr>\n",
              "    <tr>\n",
              "      <th>2</th>\n",
              "      <td>../content/TramDemo_spec/accelerating_1_New/tr...</td>\n",
              "      <td>accelerating_1_New</td>\n",
              "    </tr>\n",
              "    <tr>\n",
              "      <th>3</th>\n",
              "      <td>../content/TramDemo_spec/accelerating_1_New/tr...</td>\n",
              "      <td>accelerating_1_New</td>\n",
              "    </tr>\n",
              "    <tr>\n",
              "      <th>4</th>\n",
              "      <td>../content/TramDemo_spec/accelerating_1_New/tr...</td>\n",
              "      <td>accelerating_1_New</td>\n",
              "    </tr>\n",
              "  </tbody>\n",
              "</table>\n",
              "</div>\n",
              "    <div class=\"colab-df-buttons\">\n",
              "\n",
              "  <div class=\"colab-df-container\">\n",
              "    <button class=\"colab-df-convert\" onclick=\"convertToInteractive('df-352f88f0-ab4d-44e9-a9d8-614d8ae180cf')\"\n",
              "            title=\"Convert this dataframe to an interactive table.\"\n",
              "            style=\"display:none;\">\n",
              "\n",
              "  <svg xmlns=\"http://www.w3.org/2000/svg\" height=\"24px\" viewBox=\"0 -960 960 960\">\n",
              "    <path d=\"M120-120v-720h720v720H120Zm60-500h600v-160H180v160Zm220 220h160v-160H400v160Zm0 220h160v-160H400v160ZM180-400h160v-160H180v160Zm440 0h160v-160H620v160ZM180-180h160v-160H180v160Zm440 0h160v-160H620v160Z\"/>\n",
              "  </svg>\n",
              "    </button>\n",
              "\n",
              "  <style>\n",
              "    .colab-df-container {\n",
              "      display:flex;\n",
              "      gap: 12px;\n",
              "    }\n",
              "\n",
              "    .colab-df-convert {\n",
              "      background-color: #E8F0FE;\n",
              "      border: none;\n",
              "      border-radius: 50%;\n",
              "      cursor: pointer;\n",
              "      display: none;\n",
              "      fill: #1967D2;\n",
              "      height: 32px;\n",
              "      padding: 0 0 0 0;\n",
              "      width: 32px;\n",
              "    }\n",
              "\n",
              "    .colab-df-convert:hover {\n",
              "      background-color: #E2EBFA;\n",
              "      box-shadow: 0px 1px 2px rgba(60, 64, 67, 0.3), 0px 1px 3px 1px rgba(60, 64, 67, 0.15);\n",
              "      fill: #174EA6;\n",
              "    }\n",
              "\n",
              "    .colab-df-buttons div {\n",
              "      margin-bottom: 4px;\n",
              "    }\n",
              "\n",
              "    [theme=dark] .colab-df-convert {\n",
              "      background-color: #3B4455;\n",
              "      fill: #D2E3FC;\n",
              "    }\n",
              "\n",
              "    [theme=dark] .colab-df-convert:hover {\n",
              "      background-color: #434B5C;\n",
              "      box-shadow: 0px 1px 3px 1px rgba(0, 0, 0, 0.15);\n",
              "      filter: drop-shadow(0px 1px 2px rgba(0, 0, 0, 0.3));\n",
              "      fill: #FFFFFF;\n",
              "    }\n",
              "  </style>\n",
              "\n",
              "    <script>\n",
              "      const buttonEl =\n",
              "        document.querySelector('#df-352f88f0-ab4d-44e9-a9d8-614d8ae180cf button.colab-df-convert');\n",
              "      buttonEl.style.display =\n",
              "        google.colab.kernel.accessAllowed ? 'block' : 'none';\n",
              "\n",
              "      async function convertToInteractive(key) {\n",
              "        const element = document.querySelector('#df-352f88f0-ab4d-44e9-a9d8-614d8ae180cf');\n",
              "        const dataTable =\n",
              "          await google.colab.kernel.invokeFunction('convertToInteractive',\n",
              "                                                    [key], {});\n",
              "        if (!dataTable) return;\n",
              "\n",
              "        const docLinkHtml = 'Like what you see? Visit the ' +\n",
              "          '<a target=\"_blank\" href=https://colab.research.google.com/notebooks/data_table.ipynb>data table notebook</a>'\n",
              "          + ' to learn more about interactive tables.';\n",
              "        element.innerHTML = '';\n",
              "        dataTable['output_type'] = 'display_data';\n",
              "        await google.colab.output.renderOutput(dataTable, element);\n",
              "        const docLink = document.createElement('div');\n",
              "        docLink.innerHTML = docLinkHtml;\n",
              "        element.appendChild(docLink);\n",
              "      }\n",
              "    </script>\n",
              "  </div>\n",
              "\n",
              "\n",
              "<div id=\"df-101b07c1-086e-4410-9741-5983bce1a633\">\n",
              "  <button class=\"colab-df-quickchart\" onclick=\"quickchart('df-101b07c1-086e-4410-9741-5983bce1a633')\"\n",
              "            title=\"Suggest charts.\"\n",
              "            style=\"display:none;\">\n",
              "\n",
              "<svg xmlns=\"http://www.w3.org/2000/svg\" height=\"24px\"viewBox=\"0 0 24 24\"\n",
              "     width=\"24px\">\n",
              "    <g>\n",
              "        <path d=\"M19 3H5c-1.1 0-2 .9-2 2v14c0 1.1.9 2 2 2h14c1.1 0 2-.9 2-2V5c0-1.1-.9-2-2-2zM9 17H7v-7h2v7zm4 0h-2V7h2v10zm4 0h-2v-4h2v4z\"/>\n",
              "    </g>\n",
              "</svg>\n",
              "  </button>\n",
              "\n",
              "<style>\n",
              "  .colab-df-quickchart {\n",
              "      --bg-color: #E8F0FE;\n",
              "      --fill-color: #1967D2;\n",
              "      --hover-bg-color: #E2EBFA;\n",
              "      --hover-fill-color: #174EA6;\n",
              "      --disabled-fill-color: #AAA;\n",
              "      --disabled-bg-color: #DDD;\n",
              "  }\n",
              "\n",
              "  [theme=dark] .colab-df-quickchart {\n",
              "      --bg-color: #3B4455;\n",
              "      --fill-color: #D2E3FC;\n",
              "      --hover-bg-color: #434B5C;\n",
              "      --hover-fill-color: #FFFFFF;\n",
              "      --disabled-bg-color: #3B4455;\n",
              "      --disabled-fill-color: #666;\n",
              "  }\n",
              "\n",
              "  .colab-df-quickchart {\n",
              "    background-color: var(--bg-color);\n",
              "    border: none;\n",
              "    border-radius: 50%;\n",
              "    cursor: pointer;\n",
              "    display: none;\n",
              "    fill: var(--fill-color);\n",
              "    height: 32px;\n",
              "    padding: 0;\n",
              "    width: 32px;\n",
              "  }\n",
              "\n",
              "  .colab-df-quickchart:hover {\n",
              "    background-color: var(--hover-bg-color);\n",
              "    box-shadow: 0 1px 2px rgba(60, 64, 67, 0.3), 0 1px 3px 1px rgba(60, 64, 67, 0.15);\n",
              "    fill: var(--button-hover-fill-color);\n",
              "  }\n",
              "\n",
              "  .colab-df-quickchart-complete:disabled,\n",
              "  .colab-df-quickchart-complete:disabled:hover {\n",
              "    background-color: var(--disabled-bg-color);\n",
              "    fill: var(--disabled-fill-color);\n",
              "    box-shadow: none;\n",
              "  }\n",
              "\n",
              "  .colab-df-spinner {\n",
              "    border: 2px solid var(--fill-color);\n",
              "    border-color: transparent;\n",
              "    border-bottom-color: var(--fill-color);\n",
              "    animation:\n",
              "      spin 1s steps(1) infinite;\n",
              "  }\n",
              "\n",
              "  @keyframes spin {\n",
              "    0% {\n",
              "      border-color: transparent;\n",
              "      border-bottom-color: var(--fill-color);\n",
              "      border-left-color: var(--fill-color);\n",
              "    }\n",
              "    20% {\n",
              "      border-color: transparent;\n",
              "      border-left-color: var(--fill-color);\n",
              "      border-top-color: var(--fill-color);\n",
              "    }\n",
              "    30% {\n",
              "      border-color: transparent;\n",
              "      border-left-color: var(--fill-color);\n",
              "      border-top-color: var(--fill-color);\n",
              "      border-right-color: var(--fill-color);\n",
              "    }\n",
              "    40% {\n",
              "      border-color: transparent;\n",
              "      border-right-color: var(--fill-color);\n",
              "      border-top-color: var(--fill-color);\n",
              "    }\n",
              "    60% {\n",
              "      border-color: transparent;\n",
              "      border-right-color: var(--fill-color);\n",
              "    }\n",
              "    80% {\n",
              "      border-color: transparent;\n",
              "      border-right-color: var(--fill-color);\n",
              "      border-bottom-color: var(--fill-color);\n",
              "    }\n",
              "    90% {\n",
              "      border-color: transparent;\n",
              "      border-bottom-color: var(--fill-color);\n",
              "    }\n",
              "  }\n",
              "</style>\n",
              "\n",
              "  <script>\n",
              "    async function quickchart(key) {\n",
              "      const quickchartButtonEl =\n",
              "        document.querySelector('#' + key + ' button');\n",
              "      quickchartButtonEl.disabled = true;  // To prevent multiple clicks.\n",
              "      quickchartButtonEl.classList.add('colab-df-spinner');\n",
              "      try {\n",
              "        const charts = await google.colab.kernel.invokeFunction(\n",
              "            'suggestCharts', [key], {});\n",
              "      } catch (error) {\n",
              "        console.error('Error during call to suggestCharts:', error);\n",
              "      }\n",
              "      quickchartButtonEl.classList.remove('colab-df-spinner');\n",
              "      quickchartButtonEl.classList.add('colab-df-quickchart-complete');\n",
              "    }\n",
              "    (() => {\n",
              "      let quickchartButtonEl =\n",
              "        document.querySelector('#df-101b07c1-086e-4410-9741-5983bce1a633 button');\n",
              "      quickchartButtonEl.style.display =\n",
              "        google.colab.kernel.accessAllowed ? 'block' : 'none';\n",
              "    })();\n",
              "  </script>\n",
              "</div>\n",
              "    </div>\n",
              "  </div>\n"
            ]
          },
          "metadata": {},
          "execution_count": 20
        }
      ]
    },
    {
      "cell_type": "code",
      "source": [
        "# get x,y size of image using a random sample\n",
        "sample = plt.imread(trainSpecDf['Filepath'][0])\n",
        "x_size, y_size = np.shape(sample)\n",
        "batch = 32 # batch size"
      ],
      "metadata": {
        "id": "TopYMMCjQH0F"
      },
      "execution_count": null,
      "outputs": []
    },
    {
      "cell_type": "code",
      "source": [
        "# Load\n",
        "train_ds = tf.keras.utils.image_dataset_from_directory(\n",
        "                              path,\n",
        "                              validation_split=0.2,\n",
        "                              subset=\"training\",\n",
        "                              seed=123,\n",
        "                              image_size=(x_size, y_size),\n",
        "                              color_mode='grayscale',\n",
        "                              batch_size=batch,\n",
        "                              shuffle=True)\n",
        "val_ds = tf.keras.utils.image_dataset_from_directory(\n",
        "                              path,\n",
        "                              validation_split=0.2,\n",
        "                              subset=\"validation\",\n",
        "                              seed=123,\n",
        "                              color_mode='grayscale',\n",
        "                              image_size=(x_size, y_size),\n",
        "                              batch_size=batch,\n",
        "                              shuffle=True)"
      ],
      "metadata": {
        "colab": {
          "base_uri": "https://localhost:8080/"
        },
        "id": "26bcCVFXPkYa",
        "outputId": "307bc6e7-b685-4c50-ddd4-c8ca6b748d48"
      },
      "execution_count": 34,
      "outputs": [
        {
          "output_type": "stream",
          "name": "stdout",
          "text": [
            "Found 2168 files belonging to 8 classes.\n",
            "Using 1735 files for training.\n",
            "Found 2168 files belonging to 8 classes.\n",
            "Using 433 files for validation.\n"
          ]
        }
      ]
    },
    {
      "cell_type": "code",
      "source": [
        "# Model layout\n",
        "num_classes = 8\n",
        "model = Sequential([\n",
        "  tf.keras.layers.InputLayer(input_shape=(x_size, y_size, 1)),\n",
        "  Rescaling(1./255, input_shape=(x_size, y_size, 1)),\n",
        "  Conv2D(16, 3, activation='leaky_relu' , input_shape=(x_size, y_size, 1)),\n",
        "  BatchNormalization(),\n",
        "  Conv2D(32, 3, activation='leaky_relu'),\n",
        "  MaxPooling2D(),\n",
        "  BatchNormalization(),\n",
        "  Conv2D(64, 3,  activation='leaky_relu'),\n",
        "  BatchNormalization(),\n",
        "  Dropout(0.2),\n",
        "  Conv2D(128, 5, activation='leaky_relu'),\n",
        "  MaxPooling2D(),\n",
        "  BatchNormalization(),\n",
        "  Flatten(),\n",
        "  Dropout(0.2),\n",
        "  Dense(128, activation='leaky_relu'),\n",
        "  Dropout(0.2),\n",
        "  Dense(32, activation='leaky_relu'),\n",
        "  Dense(num_classes)\n",
        "])\n",
        "model.summary()\n",
        "model.build()"
      ],
      "metadata": {
        "colab": {
          "base_uri": "https://localhost:8080/"
        },
        "id": "h2EDfb92RQG6",
        "outputId": "0e6da91c-5240-4c83-e0f7-a85c91c168a2"
      },
      "execution_count": 71,
      "outputs": [
        {
          "output_type": "stream",
          "name": "stdout",
          "text": [
            "Model: \"sequential_7\"\n",
            "_________________________________________________________________\n",
            " Layer (type)                Output Shape              Param #   \n",
            "=================================================================\n",
            " rescaling_7 (Rescaling)     (None, 128, 152, 1)       0         \n",
            "                                                                 \n",
            " conv2d_28 (Conv2D)          (None, 126, 150, 16)      160       \n",
            "                                                                 \n",
            " batch_normalization_28 (Ba  (None, 126, 150, 16)      64        \n",
            " tchNormalization)                                               \n",
            "                                                                 \n",
            " conv2d_29 (Conv2D)          (None, 124, 148, 32)      4640      \n",
            "                                                                 \n",
            " max_pooling2d_14 (MaxPooli  (None, 62, 74, 32)        0         \n",
            " ng2D)                                                           \n",
            "                                                                 \n",
            " batch_normalization_29 (Ba  (None, 62, 74, 32)        128       \n",
            " tchNormalization)                                               \n",
            "                                                                 \n",
            " conv2d_30 (Conv2D)          (None, 60, 72, 64)        18496     \n",
            "                                                                 \n",
            " batch_normalization_30 (Ba  (None, 60, 72, 64)        256       \n",
            " tchNormalization)                                               \n",
            "                                                                 \n",
            " dropout_21 (Dropout)        (None, 60, 72, 64)        0         \n",
            "                                                                 \n",
            " conv2d_31 (Conv2D)          (None, 56, 68, 128)       204928    \n",
            "                                                                 \n",
            " max_pooling2d_15 (MaxPooli  (None, 28, 34, 128)       0         \n",
            " ng2D)                                                           \n",
            "                                                                 \n",
            " batch_normalization_31 (Ba  (None, 28, 34, 128)       512       \n",
            " tchNormalization)                                               \n",
            "                                                                 \n",
            " flatten_7 (Flatten)         (None, 121856)            0         \n",
            "                                                                 \n",
            " dropout_22 (Dropout)        (None, 121856)            0         \n",
            "                                                                 \n",
            " dense_21 (Dense)            (None, 128)               15597696  \n",
            "                                                                 \n",
            " dropout_23 (Dropout)        (None, 128)               0         \n",
            "                                                                 \n",
            " dense_22 (Dense)            (None, 32)                4128      \n",
            "                                                                 \n",
            " dense_23 (Dense)            (None, 8)                 264       \n",
            "                                                                 \n",
            "=================================================================\n",
            "Total params: 15831272 (60.39 MB)\n",
            "Trainable params: 15830792 (60.39 MB)\n",
            "Non-trainable params: 480 (1.88 KB)\n",
            "_________________________________________________________________\n"
          ]
        }
      ]
    },
    {
      "cell_type": "code",
      "source": [
        "callback = []\n",
        "save_best_callback = tf.keras.callbacks.ModelCheckpoint(f'../content/weights/best_weights.hdf5', save_best_only=True, verbose=1)\n",
        "callback.append(save_best_callback)\n",
        "early_stop_callback = tf.keras.callbacks.EarlyStopping(patience=8, restore_best_weights=True, verbose=1)\n",
        "callback.append(early_stop_callback)"
      ],
      "metadata": {
        "id": "82ROqe_ejP2y"
      },
      "execution_count": 72,
      "outputs": []
    },
    {
      "cell_type": "code",
      "source": [
        "initial_learning_rate = 0.0001\n",
        "lr_schedule = tf.keras.optimizers.schedules.ExponentialDecay(\n",
        "    initial_learning_rate,\n",
        "    decay_steps=100000,\n",
        "    decay_rate=0.96,\n",
        "    staircase=True)\n",
        "# Compile model\n",
        "model.compile(optimizer=tf.keras.optimizers.Adam(learning_rate=initial_learning_rate),\n",
        "              loss=tf.keras.losses.SparseCategoricalCrossentropy(from_logits=True),\n",
        "              metrics=['accuracy'])"
      ],
      "metadata": {
        "id": "-fJjFz3WKFiS"
      },
      "execution_count": 73,
      "outputs": []
    },
    {
      "cell_type": "code",
      "source": [
        "results = model.fit(train_ds, epochs=50,\n",
        "          validation_data=val_ds,\n",
        "          batch_size=batch,\n",
        "          verbose=1 , callbacks=callback)"
      ],
      "metadata": {
        "colab": {
          "base_uri": "https://localhost:8080/"
        },
        "id": "w_Stf5pWKK4i",
        "outputId": "1e0dacb4-089e-4d88-ac8f-c2644be3e6a1"
      },
      "execution_count": 74,
      "outputs": [
        {
          "output_type": "stream",
          "name": "stdout",
          "text": [
            "Epoch 1/50\n",
            "55/55 [==============================] - ETA: 0s - loss: 0.9021 - accuracy: 0.7406\n",
            "Epoch 1: val_loss improved from inf to 2.74324, saving model to ../content/weights/best_weights.hdf5\n"
          ]
        },
        {
          "output_type": "stream",
          "name": "stderr",
          "text": [
            "/usr/local/lib/python3.10/dist-packages/keras/src/engine/training.py:3000: UserWarning: You are saving your model as an HDF5 file via `model.save()`. This file format is considered legacy. We recommend using instead the native Keras format, e.g. `model.save('my_model.keras')`.\n",
            "  saving_api.save_model(\n"
          ]
        },
        {
          "output_type": "stream",
          "name": "stdout",
          "text": [
            "\b\b\b\b\b\b\b\b\b\b\b\b\b\b\b\b\b\b\b\b\b\b\b\b\b\b\b\b\b\b\b\b\b\b\b\b\b\b\b\b\b\b\b\b\b\b\b\b\b\b\b\b\b\b\b\b\b\b\b\b\b\b\b\b\b\b\b\b\b\b\b\b\b\b\b\b\b\b\b\b\b\b\r55/55 [==============================] - 13s 135ms/step - loss: 0.9021 - accuracy: 0.7406 - val_loss: 2.7432 - val_accuracy: 0.0624\n",
            "Epoch 2/50\n",
            "54/55 [============================>.] - ETA: 0s - loss: 0.1482 - accuracy: 0.9520\n",
            "Epoch 2: val_loss did not improve from 2.74324\n",
            "55/55 [==============================] - 5s 79ms/step - loss: 0.1477 - accuracy: 0.9522 - val_loss: 3.8987 - val_accuracy: 0.0624\n",
            "Epoch 3/50\n",
            "54/55 [============================>.] - ETA: 0s - loss: 0.0419 - accuracy: 0.9890\n",
            "Epoch 3: val_loss did not improve from 2.74324\n",
            "55/55 [==============================] - 5s 80ms/step - loss: 0.0418 - accuracy: 0.9890 - val_loss: 3.9977 - val_accuracy: 0.0624\n",
            "Epoch 4/50\n",
            "54/55 [============================>.] - ETA: 0s - loss: 0.0284 - accuracy: 0.9925\n",
            "Epoch 4: val_loss did not improve from 2.74324\n",
            "55/55 [==============================] - 5s 89ms/step - loss: 0.0284 - accuracy: 0.9925 - val_loss: 5.4535 - val_accuracy: 0.0624\n",
            "Epoch 5/50\n",
            "54/55 [============================>.] - ETA: 0s - loss: 0.0193 - accuracy: 0.9965\n",
            "Epoch 5: val_loss did not improve from 2.74324\n",
            "55/55 [==============================] - 5s 81ms/step - loss: 0.0192 - accuracy: 0.9965 - val_loss: 3.5860 - val_accuracy: 0.3395\n",
            "Epoch 6/50\n",
            "54/55 [============================>.] - ETA: 0s - loss: 0.0123 - accuracy: 0.9971\n",
            "Epoch 6: val_loss improved from 2.74324 to 1.64109, saving model to ../content/weights/best_weights.hdf5\n",
            "55/55 [==============================] - 5s 94ms/step - loss: 0.0122 - accuracy: 0.9971 - val_loss: 1.6411 - val_accuracy: 0.4896\n",
            "Epoch 7/50\n",
            "54/55 [============================>.] - ETA: 0s - loss: 0.0034 - accuracy: 1.0000\n",
            "Epoch 7: val_loss did not improve from 1.64109\n",
            "55/55 [==============================] - 5s 87ms/step - loss: 0.0033 - accuracy: 1.0000 - val_loss: 2.1994 - val_accuracy: 0.4758\n",
            "Epoch 8/50\n",
            "54/55 [============================>.] - ETA: 0s - loss: 0.0047 - accuracy: 0.9983\n",
            "Epoch 8: val_loss improved from 1.64109 to 1.14768, saving model to ../content/weights/best_weights.hdf5\n",
            "55/55 [==============================] - 5s 92ms/step - loss: 0.0046 - accuracy: 0.9983 - val_loss: 1.1477 - val_accuracy: 0.6074\n",
            "Epoch 9/50\n",
            "54/55 [============================>.] - ETA: 0s - loss: 0.0038 - accuracy: 0.9994\n",
            "Epoch 9: val_loss improved from 1.14768 to 0.53043, saving model to ../content/weights/best_weights.hdf5\n",
            "55/55 [==============================] - 6s 100ms/step - loss: 0.0038 - accuracy: 0.9994 - val_loss: 0.5304 - val_accuracy: 0.8222\n",
            "Epoch 10/50\n",
            "54/55 [============================>.] - ETA: 0s - loss: 0.0092 - accuracy: 0.9977\n",
            "Epoch 10: val_loss improved from 0.53043 to 0.31384, saving model to ../content/weights/best_weights.hdf5\n",
            "55/55 [==============================] - 5s 92ms/step - loss: 0.0092 - accuracy: 0.9977 - val_loss: 0.3138 - val_accuracy: 0.8845\n",
            "Epoch 11/50\n",
            "54/55 [============================>.] - ETA: 0s - loss: 0.0082 - accuracy: 0.9983\n",
            "Epoch 11: val_loss improved from 0.31384 to 0.19825, saving model to ../content/weights/best_weights.hdf5\n",
            "55/55 [==============================] - 6s 102ms/step - loss: 0.0082 - accuracy: 0.9983 - val_loss: 0.1983 - val_accuracy: 0.9538\n",
            "Epoch 12/50\n",
            "54/55 [============================>.] - ETA: 0s - loss: 0.0082 - accuracy: 0.9983\n",
            "Epoch 12: val_loss did not improve from 0.19825\n",
            "55/55 [==============================] - 5s 80ms/step - loss: 0.0081 - accuracy: 0.9983 - val_loss: 0.2425 - val_accuracy: 0.9515\n",
            "Epoch 13/50\n",
            "54/55 [============================>.] - ETA: 0s - loss: 0.0344 - accuracy: 0.9925\n",
            "Epoch 13: val_loss did not improve from 0.19825\n",
            "55/55 [==============================] - 4s 79ms/step - loss: 0.0343 - accuracy: 0.9925 - val_loss: 0.2723 - val_accuracy: 0.9330\n",
            "Epoch 14/50\n",
            "54/55 [============================>.] - ETA: 0s - loss: 0.0252 - accuracy: 0.9902\n",
            "Epoch 14: val_loss did not improve from 0.19825\n",
            "55/55 [==============================] - 5s 89ms/step - loss: 0.0254 - accuracy: 0.9902 - val_loss: 0.9852 - val_accuracy: 0.8014\n",
            "Epoch 15/50\n",
            "54/55 [============================>.] - ETA: 0s - loss: 0.0386 - accuracy: 0.9896\n",
            "Epoch 15: val_loss did not improve from 0.19825\n",
            "55/55 [==============================] - 5s 84ms/step - loss: 0.0384 - accuracy: 0.9896 - val_loss: 0.3162 - val_accuracy: 0.9400\n",
            "Epoch 16/50\n",
            "54/55 [============================>.] - ETA: 0s - loss: 0.0151 - accuracy: 0.9954\n",
            "Epoch 16: val_loss did not improve from 0.19825\n",
            "55/55 [==============================] - 5s 82ms/step - loss: 0.0151 - accuracy: 0.9954 - val_loss: 0.2853 - val_accuracy: 0.9238\n",
            "Epoch 17/50\n",
            "54/55 [============================>.] - ETA: 0s - loss: 7.7439e-04 - accuracy: 1.0000\n",
            "Epoch 17: val_loss did not improve from 0.19825\n",
            "55/55 [==============================] - 5s 90ms/step - loss: 7.7130e-04 - accuracy: 1.0000 - val_loss: 0.2184 - val_accuracy: 0.9630\n",
            "Epoch 18/50\n",
            "54/55 [============================>.] - ETA: 0s - loss: 0.0012 - accuracy: 0.9994\n",
            "Epoch 18: val_loss did not improve from 0.19825\n",
            "55/55 [==============================] - 5s 80ms/step - loss: 0.0012 - accuracy: 0.9994 - val_loss: 0.2975 - val_accuracy: 0.9492\n",
            "Epoch 19/50\n",
            "54/55 [============================>.] - ETA: 0s - loss: 0.0017 - accuracy: 0.9994\n",
            "Epoch 19: val_loss did not improve from 0.19825\n",
            "Restoring model weights from the end of the best epoch: 11.\n",
            "55/55 [==============================] - 5s 82ms/step - loss: 0.0017 - accuracy: 0.9994 - val_loss: 0.2732 - val_accuracy: 0.9584\n",
            "Epoch 19: early stopping\n"
          ]
        }
      ]
    },
    {
      "cell_type": "code",
      "source": [
        "# Review training with the following plots\n",
        "# Plot Metrics\n",
        "fig, axs = plt.subplots(1, 2, figsize=(18, 10))\n",
        "fig.suptitle('Accuracy & Loss Plots', fontsize=13)\n",
        "axs[0].plot(results.history['accuracy'])\n",
        "axs[0].plot(results.history['val_accuracy'])\n",
        "axs[0].set_title('Training-Validation Accuracy', fontsize=12)\n",
        "axs[1].plot(results.history['loss'])\n",
        "axs[1].plot(results.history['val_loss'])\n",
        "axs[1].set_title('Training-Validation Loss', fontsize=12)\n",
        "fig.legend(['Training Set', 'Validation Set'], loc='lower right', fontsize=15)\n",
        "plt.show()"
      ],
      "metadata": {
        "colab": {
          "base_uri": "https://localhost:8080/",
          "height": 908
        },
        "id": "3xchnMdbiAFb",
        "outputId": "7e4109a4-20f7-4fbb-b154-df3663e27027"
      },
      "execution_count": 75,
      "outputs": [
        {
          "output_type": "display_data",
          "data": {
            "text/plain": [
              "<Figure size 1800x1000 with 2 Axes>"
            ],
            "image/png": "[encoded data removed]"
          },
          "metadata": {}
        }
      ]
    },
    {
      "cell_type": "code",
      "source": [
        "# test samples\n",
        "test_path = '/content/TramDemo_spec_test/specfiles/'\n",
        "test_ds = tf.keras.utils.image_dataset_from_directory(\n",
        "                              test_path,\n",
        "                              seed=123,\n",
        "                              labels = None,\n",
        "                              color_mode='grayscale',\n",
        "                              image_size=(x_size, y_size),\n",
        "                              batch_size=batch,\n",
        "                              shuffle=False)"
      ],
      "metadata": {
        "colab": {
          "base_uri": "https://localhost:8080/"
        },
        "id": "g1l8gfJOsYab",
        "outputId": "10cf9f5e-55ed-4b32-f06c-b31614e2e155"
      },
      "execution_count": 76,
      "outputs": [
        {
          "output_type": "stream",
          "name": "stdout",
          "text": [
            "Found 500 files belonging to 1 classes.\n"
          ]
        }
      ]
    },
    {
      "cell_type": "code",
      "source": [
        "predictions = model.predict(test_ds, batch_size=batch)"
      ],
      "metadata": {
        "colab": {
          "base_uri": "https://localhost:8080/"
        },
        "id": "1Sc4gxk4_wol",
        "outputId": "3375670e-d6aa-44e8-b784-01d2ce22f7a3"
      },
      "execution_count": 77,
      "outputs": [
        {
          "output_type": "stream",
          "name": "stdout",
          "text": [
            "16/16 [==============================] - 1s 66ms/step\n"
          ]
        }
      ]
    },
    {
      "cell_type": "code",
      "source": [
        "score = tf.nn.softmax(predictions)"
      ],
      "metadata": {
        "id": "ysGdn2qTACb3"
      },
      "execution_count": 78,
      "outputs": []
    },
    {
      "cell_type": "code",
      "source": [
        "# Save csv file\n",
        "csv_list = []\n",
        "sec_offset = 0\n",
        "for i in range(len(score)):\n",
        "  row = [0, 0, 0, 0, 0, 0, 0, 0, 0]\n",
        "  class_idx = np.argmax(score[i])\n",
        "  sec_offset += 3 # due to the samples being 3 second long each\n",
        "  if sec_offset == 300:\n",
        "    sec_offset = 0\n",
        "  row[0] = sec_offset\n",
        "  row[class_idx + 1] = 1\n",
        "  csv_list.append(row)\n",
        "csv_creator('predictions.csv', ['seconds_offset', 'accelerating_1_New','accelerating_2_CKD_Long','accelerating_3_CKD_Short',\n",
        "                                'accelerating_4_Old','braking_1_New','braking_2_CKD_Long','braking_3_CKD_Short','braking_4_Old'], csv_list)\n"
      ],
      "metadata": {
        "id": "lQ0Q3K7NATVg"
      },
      "execution_count": 79,
      "outputs": []
    }
  ]
}